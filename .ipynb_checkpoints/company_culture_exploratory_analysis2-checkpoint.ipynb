{
 "cells": [
  {
   "cell_type": "markdown",
   "metadata": {},
   "source": [
    "Will try to discover clusters on the ordinal variables in this worksheet."
   ]
  },
  {
   "cell_type": "code",
   "execution_count": 2,
   "metadata": {
    "collapsed": false
   },
   "outputs": [],
   "source": [
    "%matplotlib inline\n",
    "\n",
    "import pandas as pd\n",
    "import numpy as np\n",
    "import re, nltk, operator, itertools, gensim, math\n",
    "from collections import defaultdict\n",
    "from nltk.stem import WordNetLemmatizer\n",
    "from nltk.corpus import stopwords\n",
    "from operator import itemgetter\n",
    "from gensim import corpora, models\n",
    "\n",
    "from sklearn.feature_extraction.text import TfidfVectorizer\n",
    "from sklearn.metrics.pairwise import cosine_similarity\n",
    "from sklearn.cluster import KMeans, DBSCAN\n",
    "from sklearn import metrics\n",
    "from sklearn.externals import joblib\n",
    "from sklearn.preprocessing import StandardScaler\n",
    "\n",
    "import matplotlib\n",
    "from matplotlib import pyplot as plt\n",
    "matplotlib.style.use('ggplot')"
   ]
  },
  {
   "cell_type": "code",
   "execution_count": 59,
   "metadata": {
    "collapsed": false,
    "scrolled": true
   },
   "outputs": [],
   "source": [
    "df = pd.read_csv('corporate_culture_trunc.csv') #reads csv into dataframe\n",
    "df = df.dropna(subset=['Q1']) #drop row if no description (NaN in Q1)\n",
    "##TAKE ONLY THE ORDINAL VARIABLES\n",
    "dfordinal = df.drop(['Q1', 'Q4b_Other_Reasons','Q5_Other','Q6_Other','Q8b_B_Perfect','Q13_5_Other','Q13_for_finance_Other','Q13_against_finance_Other'], axis=1)\n",
    "dfordinal = dfordinal.drop(['Q13_for_comp_Other','Q13_against_comp_Other'],axis=1)\n",
    "dfordinal = dfordinal.drop(['Q14_Other','Q14_OE_1','Q14_OE_2','Q14_OE_3','Q14_OE_4','Q14_OE_5','Q14_OE_6','Q14_OE_7','Q14_OE_8','Q14_OE_9','Q14_OE_10','Q14_OE_9','Q14_OE_10','Q14_OE_11','Q14_OE_12'],axis=1)\n",
    "dfordinal = dfordinal.drop(['job_title_other','firm_location_other','IndustryOther'],axis=1)\n",
    "##fix ratings, but for now --\n",
    "dfordinal = dfordinal.drop(['Credit_Rating'],axis=1)\n",
    "#dfordinal = dfordinal.convert_objects(convert_numeric=True) #convert object columns to numerics when possible\n",
    "dfordinal = dfordinal.apply(pd.to_numeric, errors='coerce')\n",
    "dfordinal = dfordinal.fillna(0)\n",
    "#dfordinal['Q5_2'] = dfordinal['Q5_2'].map({2:1,0:0})\n",
    "cols_to_drop=list(range(10,24)) #dropping the columns mapping who had the most influence on culture\n",
    "dfordinal = dfordinal.drop(dfordinal.columns[cols_to_drop],axis=1)\n",
    "nmordinal = dfordinal.as_matrix()"
   ]
  },
  {
   "cell_type": "markdown",
   "metadata": {},
   "source": [
    "# CLUSTERING VIA DBSCAN"
   ]
  },
  {
   "cell_type": "code",
   "execution_count": 68,
   "metadata": {
    "collapsed": false
   },
   "outputs": [
    {
     "name": "stdout",
     "output_type": "stream",
     "text": [
      "Estimated number of clusters: 0\n"
     ]
    },
    {
     "ename": "ValueError",
     "evalue": "Number of labels is 1. Valid values are 2 to n_samples - 1 (inclusive)",
     "output_type": "error",
     "traceback": [
      "\u001b[0;31m---------------------------------------------------------------------------\u001b[0m",
      "\u001b[0;31mValueError\u001b[0m                                Traceback (most recent call last)",
      "\u001b[0;32m<ipython-input-68-7c1404aa1514>\u001b[0m in \u001b[0;36m<module>\u001b[0;34m()\u001b[0m\n\u001b[1;32m     13\u001b[0m \u001b[0;34m\u001b[0m\u001b[0m\n\u001b[1;32m     14\u001b[0m \u001b[0;32mprint\u001b[0m\u001b[0;34m(\u001b[0m\u001b[0;34m'Estimated number of clusters: %d'\u001b[0m \u001b[0;34m%\u001b[0m \u001b[0mn_clusters_\u001b[0m\u001b[0;34m)\u001b[0m\u001b[0;34m\u001b[0m\u001b[0m\n\u001b[0;32m---> 15\u001b[0;31m \u001b[0;32mprint\u001b[0m\u001b[0;34m(\u001b[0m\u001b[0;34m\"Silhouette Coefficient: %0.3f\"\u001b[0m \u001b[0;34m%\u001b[0m \u001b[0mmetrics\u001b[0m\u001b[0;34m.\u001b[0m\u001b[0msilhouette_score\u001b[0m\u001b[0;34m(\u001b[0m\u001b[0mX_std\u001b[0m\u001b[0;34m,\u001b[0m \u001b[0mlabels\u001b[0m\u001b[0;34m)\u001b[0m\u001b[0;34m)\u001b[0m\u001b[0;34m\u001b[0m\u001b[0m\n\u001b[0m\u001b[1;32m     16\u001b[0m \u001b[0;34m\u001b[0m\u001b[0m\n\u001b[1;32m     17\u001b[0m \u001b[0;31m#Silhouette coefficient near 0, indicating overlapping clusters\u001b[0m\u001b[0;34m\u001b[0m\u001b[0;34m\u001b[0m\u001b[0m\n",
      "\u001b[0;32m/Users/kirtikamboj/anaconda/lib/python2.7/site-packages/sklearn/metrics/cluster/unsupervised.pyc\u001b[0m in \u001b[0;36msilhouette_score\u001b[0;34m(X, labels, metric, sample_size, random_state, **kwds)\u001b[0m\n\u001b[1;32m     84\u001b[0m     \u001b[0;32mif\u001b[0m \u001b[0;32mnot\u001b[0m \u001b[0;36m1\u001b[0m \u001b[0;34m<\u001b[0m \u001b[0mn_labels\u001b[0m \u001b[0;34m<\u001b[0m \u001b[0mn_samples\u001b[0m\u001b[0;34m:\u001b[0m\u001b[0;34m\u001b[0m\u001b[0m\n\u001b[1;32m     85\u001b[0m         raise ValueError(\"Number of labels is %d. Valid values are 2 \"\n\u001b[0;32m---> 86\u001b[0;31m                          \"to n_samples - 1 (inclusive)\" % n_labels)\n\u001b[0m\u001b[1;32m     87\u001b[0m \u001b[0;34m\u001b[0m\u001b[0m\n\u001b[1;32m     88\u001b[0m     \u001b[0;32mif\u001b[0m \u001b[0msample_size\u001b[0m \u001b[0;32mis\u001b[0m \u001b[0;32mnot\u001b[0m \u001b[0mNone\u001b[0m\u001b[0;34m:\u001b[0m\u001b[0;34m\u001b[0m\u001b[0m\n",
      "\u001b[0;31mValueError\u001b[0m: Number of labels is 1. Valid values are 2 to n_samples - 1 (inclusive)"
     ]
    }
   ],
   "source": [
    "X = nmordinal\n",
    "X_std = StandardScaler().fit_transform(X)\n",
    "# Compute DBSCAN\n",
    "db = DBSCAN(min_samples=15).fit(X_std)\n",
    "core_samples_mask = np.zeros_like(db.labels_, dtype=bool)\n",
    "core_samples_mask[db.core_sample_indices_] = True\n",
    "labels = db.labels_\n",
    "\n",
    "# Number of clusters in labels, ignoring noise if present.\n",
    "n_clusters_ = len(set(labels)) - (1 if -1 in labels else 0)\n",
    "\n",
    "print('Estimated number of clusters: %d' % n_clusters_)\n",
    "print(\"Silhouette Coefficient: %0.3f\" % metrics.silhouette_score(X_std, labels))\n",
    "\n",
    "#Silhouette coefficient near 0, indicating overlapping clusters\n",
    "\n",
    "# Black removed and is used for noise instead.\n",
    "unique_labels = set(labels)\n",
    "colors = plt.cm.Spectral(np.linspace(0, 1, len(unique_labels)))\n",
    "for k, col in zip(unique_labels, colors):\n",
    "    if k == -1:\n",
    "        # Black used for noise.\n",
    "        col = 'k'\n",
    "\n",
    "    class_member_mask = (labels == k)\n",
    "\n",
    "    xy = X[class_member_mask & core_samples_mask]\n",
    "    plt.plot(xy[:, 0], xy[:, 1], 'o', markerfacecolor=col,\n",
    "             markeredgecolor='k', markersize=14)\n",
    "\n",
    "    xy = X[class_member_mask & ~core_samples_mask]\n",
    "    plt.plot(xy[:, 0], xy[:, 1], 'o', markerfacecolor=col,\n",
    "             markeredgecolor='k', markersize=6)\n",
    "\n",
    "plt.title('Estimated number of clusters: %d' % n_clusters_)\n",
    "plt.show()"
   ]
  },
  {
   "cell_type": "markdown",
   "metadata": {},
   "source": [
    "Obviously DBSSCAN is not going to work. Let us try hierarchical clustering."
   ]
  },
  {
   "cell_type": "markdown",
   "metadata": {},
   "source": [
    "# HIERARCHICAL CLUSTERING"
   ]
  },
  {
   "cell_type": "code",
   "execution_count": 75,
   "metadata": {
    "collapsed": false
   },
   "outputs": [
    {
     "name": "stdout",
     "output_type": "stream",
     "text": [
      "(1744, 88)\n"
     ]
    },
    {
     "data": {
      "image/png": "[encoded data removed]",
      "text/plain": [
       "<matplotlib.figure.Figure at 0x124b947d0>"
      ]
     },
     "metadata": {},
     "output_type": "display_data"
    },
    {
     "name": "stdout",
     "output_type": "stream",
     "text": [
      "0.963060291195\n",
      "-0.140586733888\n"
     ]
    }
   ],
   "source": [
    "from scipy.spatial.distance import pdist, squareform\n",
    "from scipy.cluster.hierarchy import linkage, dendrogram, fcluster, cophenet\n",
    "\n",
    "print(X.shape)\n",
    "Z = linkage(X,'ward')\n",
    "Zcos = linkage(X,metric='cosine',method='complete')\n",
    "labels = fcluster(Zcos, .1, criterion=\"distance\")\n",
    "plt.scatter(X[:, 0], X[:, 1], c=labels.astype(np.float)) \n",
    "plt.show()\n",
    "\n",
    "c, coph_dists = cophenet(Z,pdist(X))\n",
    "print(c)\n",
    "c, coph_dists = cophenet(Zcos,pdist(X))\n",
    "print(c) "
   ]
  },
  {
   "cell_type": "markdown",
   "metadata": {},
   "source": [
    "We will go with the ward linkage, which gives much better results than the cosine similarity used for the text."
   ]
  },
  {
   "cell_type": "code",
   "execution_count": 76,
   "metadata": {
    "collapsed": false
   },
   "outputs": [
    {
     "data": {
      "image/png": "[encoded data removed]",
      "text/plain": [
       "<matplotlib.figure.Figure at 0x123bed110>"
      ]
     },
     "metadata": {},
     "output_type": "display_data"
    }
   ],
   "source": [
    "plt.figure(figsize=(25, 10))\n",
    "plt.title('Hierarchical Clustering Dendrogram')\n",
    "plt.xlabel('sample index')\n",
    "plt.ylabel('distance')\n",
    "dendrogram(\n",
    "    Z,\n",
    "    truncate_mode = 'lastp',\n",
    "    p=100,\n",
    "    leaf_rotation=90.,  # rotates the x axis labels\n",
    "    leaf_font_size=8.,  # font size for the x axis labels\n",
    ")\n",
    "plt.show()"
   ]
  },
  {
   "cell_type": "code",
   "execution_count": 78,
   "metadata": {
    "collapsed": false
   },
   "outputs": [
    {
     "data": {
      "image/png": "[encoded data removed]",
      "text/plain": [
       "<matplotlib.figure.Figure at 0x11c6e4dd0>"
      ]
     },
     "metadata": {},
     "output_type": "display_data"
    },
    {
     "name": "stdout",
     "output_type": "stream",
     "text": [
      "clusters: 2\n"
     ]
    }
   ],
   "source": [
    "last = Z[-10:, 2]\n",
    "last_rev = last[::-1]\n",
    "idxs = np.arange(1, len(last) + 1)\n",
    "plt.plot(idxs, last_rev)\n",
    "\n",
    "acceleration = np.diff(last, 2)  # 2nd derivative of the distances\n",
    "acceleration_rev = acceleration[::-1]\n",
    "plt.plot(idxs[:-2] + 1, acceleration_rev)\n",
    "plt.show()\n",
    "k = acceleration_rev.argmax() + 2  # if idx 0 is the max of this we want 2 clusters\n",
    "print \"clusters:\", k"
   ]
  },
  {
   "cell_type": "markdown",
   "metadata": {},
   "source": [
    "Takeaway -- there are two main clusters, with the left being much more cohesive than the right. They can be further subdivided into four, then seven (the same number as derived manually)."
   ]
  },
  {
   "cell_type": "markdown",
   "metadata": {},
   "source": [
    "# Does [Q1] reveal anything about these clusters?"
   ]
  },
  {
   "cell_type": "code",
   "execution_count": 84,
   "metadata": {
    "collapsed": true
   },
   "outputs": [],
   "source": [
    "culture_text=df['Q1'] #takes only the first column\n",
    "\n",
    "\n",
    "###BELOW COMMANDS TOKENIZE TEXT#########\n",
    "\n",
    "lmtzr = WordNetLemmatizer()\n",
    "estopwords = set(stopwords.words('english')) #gets rid of stopwords (a, an, the...)\n",
    "ostopwords = ['wa','ha']\n",
    "\n",
    "def removewords(docwords,nmin,nmax):\n",
    "    #removes words that only appear n times\n",
    "    all_tokens=sum(docwords,[])\n",
    "    tokens_n=set(word for word in set(all_tokens) if all_tokens.count(word)<=nmin or all_tokens.count(word)>=nmax)\n",
    "    docwords = [[word for word in docs if word not in tokens_n]\n",
    "                for docs in docwords]\n",
    "    return docwords\n",
    "\n",
    "def lemmat(corpus):\n",
    "    nmin = 4\n",
    "    nmax = len(corpus)/3\n",
    "    token_corpus = [[re.sub(r'[^\\w\\-\\s]','', word) for word in doc.lower().split()]\n",
    "          for doc in corpus]\n",
    "    token_corpus = [[lmtzr.lemmatize(w) for w in doc]\n",
    "                for doc in token_corpus]\n",
    "    token_corpus = [[w for w in doc if len(w)>1] #getting rid of words with only one letter\n",
    "            for doc in token_corpus]\n",
    "    token_corpus = [[w for w in doc if w not in estopwords] #getting rid of stopwords\n",
    "            for doc in token_corpus]\n",
    "    token_corpus = [[w for w in doc if w not in ostopwords] #getting rid of stopwords\n",
    "            for doc in token_corpus]\n",
    "    token_corpus = removewords(token_corpus,nmin,nmax)\n",
    "    return(token_corpus)\n",
    "\n",
    "tcorpus = lemmat(culture_text)\n",
    "\n",
    "def joinlists(listname):\n",
    "    #function for joining list of lists (i.e. from x=([['a','b'],['c']]) to x=['a','b','c'])\n",
    "    #want only unique values for each document, so:\n",
    "    uniquelitems = [set(listitems) for listitems in listname]\n",
    "    newlist=list(itertools.chain.from_iterable(uniquelitems))\n",
    "    return newlist\n",
    "\n",
    "def word_count(toktext): \n",
    "    #function returns word frequences from an input of tokenized text\n",
    "    word_freq=dict([(word, toktext.count(word)) for word in set(toktext)])\n",
    "    return word_freq\n",
    "\n",
    "def top_words(toktext,n):\n",
    "    #function returns top n words in a tokenized text\n",
    "    wordfreq=word_count(toktext)\n",
    "    topwords=sorted(wordfreq.iteritems(),key=itemgetter(1), reverse=True)[:n]\n",
    "    return topwords\n"
   ]
  },
  {
   "cell_type": "code",
   "execution_count": 127,
   "metadata": {
    "collapsed": false
   },
   "outputs": [
    {
     "name": "stdout",
     "output_type": "stream",
     "text": [
      "79\n",
      "Top 10 words:\n",
      "('customer', 11)\n",
      "(u'employee', 8)\n",
      "('culture', 8)\n",
      "('collaborative', 5)\n",
      "('innovative', 4)\n",
      "('conservative', 4)\n",
      "('innovation', 4)\n",
      "('focused', 4)\n",
      "('family', 4)\n",
      "('high', 4)\n",
      "224\n",
      "Top 10 words:\n",
      "('collaborative', 26)\n",
      "('culture', 24)\n",
      "('customer', 21)\n",
      "('driven', 18)\n",
      "(u'value', 17)\n",
      "('focused', 15)\n",
      "('respect', 14)\n",
      "('oriented', 14)\n",
      "('integrity', 13)\n",
      "('open', 12)\n",
      "1222\n",
      "Top 10 words:\n",
      "('culture', 95)\n",
      "('family', 85)\n",
      "('collaborative', 79)\n",
      "(u'customer', 74)\n",
      "('open', 70)\n",
      "('oriented', 65)\n",
      "('work', 61)\n",
      "('team', 59)\n",
      "('focused', 53)\n",
      "(u'employee', 53)\n",
      "219\n",
      "Top 10 words:\n",
      "('culture', 24)\n",
      "('collaborative', 14)\n",
      "('people', 13)\n",
      "('family', 13)\n",
      "(u'company', 13)\n",
      "('customer', 12)\n",
      "('team', 11)\n",
      "('driven', 11)\n",
      "('oriented', 10)\n",
      "('value', 10)\n"
     ]
    }
   ],
   "source": [
    "# FOR A CLUSTER OF FOUR -->\n",
    "\n",
    "k=4\n",
    "clusters=fcluster(Z,k,criterion='maxclust')\n",
    "\n",
    "dfc = { 'cluster_no' : pd.Series(clusters),\n",
    "        'culture_text': pd.Series(tcorpus),\n",
    "        'orig_text': pd.Series(culture_text)\n",
    "      }\n",
    "dfc = pd.DataFrame(dfc)\n",
    "dfc['orig_text']=dfc['orig_text'].to_string()\n",
    "\n",
    "cluster_one = dfc.loc[dfc['cluster_no'] == 1]['culture_text']\n",
    "print(len(cluster_one))\n",
    "tot_allwords=joinlists(cluster_one)\n",
    "print(\"Top 10 words:\")\n",
    "for ind_word in top_words(tot_allwords,10):\n",
    "    print ind_word\n",
    "\n",
    "cluster_two = dfc.loc[dfc['cluster_no'] == 2]['culture_text']\n",
    "print(len(cluster_two))\n",
    "tot_allwords=joinlists(cluster_two)\n",
    "print(\"Top 10 words:\")\n",
    "for ind_word in top_words(tot_allwords,10):\n",
    "    print ind_word\n",
    "\n",
    "cluster_three = dfc.loc[dfc['cluster_no'] == 3]['culture_text']\n",
    "print(len(cluster_three))\n",
    "tot_allwords=joinlists(cluster_three)\n",
    "print(\"Top 10 words:\")\n",
    "for ind_word in top_words(tot_allwords,10):\n",
    "    print ind_word\n",
    "\n",
    "cluster_four = dfc.loc[dfc['cluster_no'] == 4]['culture_text']\n",
    "print(len(cluster_four))\n",
    "tot_allwords=joinlists(cluster_four)\n",
    "print(\"Top 10 words:\")\n",
    "for ind_word in top_words(tot_allwords,10):\n",
    "    print ind_word\n"
   ]
  },
  {
   "cell_type": "markdown",
   "metadata": {},
   "source": [
    "For the most part, they all use the same words. What is the difference?"
   ]
  },
  {
   "cell_type": "code",
   "execution_count": 128,
   "metadata": {
    "collapsed": false
   },
   "outputs": [
    {
     "name": "stdout",
     "output_type": "stream",
     "text": [
      "0.701834862385\n"
     ]
    }
   ],
   "source": [
    "from sklearn.feature_extraction.text import CountVectorizer, HashingVectorizer, TfidfTransformer\n",
    "from sklearn.feature_selection import SelectKBest, chi2\n",
    "from sklearn import cross_validation, grid_search\n",
    "from sklearn.pipeline import Pipeline\n",
    "from sklearn import linear_model, ensemble\n",
    "import nltk\n",
    "\n",
    "dftc = dfc\n",
    "dftc['cluster_no'] = dftc['cluster_no'].map({1:0,2:0,3:1,4:0})\n",
    "dftc = dftc.dropna()\n",
    "x_train, x_test, y_train, y_test = cross_validation.train_test_split(dftc['orig_text'],dftc['cluster_no'],test_size=0.5)\n",
    "\n",
    "mypipeline=Pipeline([\n",
    "  ('cvect', CountVectorizer(ngram_range=(1, 2), stop_words=nltk.corpus.stopwords.words('english'))),\n",
    "  ('tfidf', TfidfTransformer()),\n",
    "  ('rclassify', ensemble.RandomForestClassifier())\n",
    "])\n",
    "\n",
    "mypipeline.fit(x_train,y_train)\n",
    "print(mypipeline.score(x_test,y_test))\n",
    "\n",
    "y_pred = mypipeline.predict(x_test)\n"
   ]
  },
  {
   "cell_type": "code",
   "execution_count": 129,
   "metadata": {
    "collapsed": false
   },
   "outputs": [
    {
     "name": "stdout",
     "output_type": "stream",
     "text": [
      "Accuracy: 0.701834862385\n",
      "Hamming Loss: 0.298165137615\n",
      "Precision: 0.701834862385\n",
      "Recall: 1.0\n",
      "F1: 0.824797843666\n",
      "Jaccard: 0.701834862385\n"
     ]
    }
   ],
   "source": [
    "y_obs=y_test\n",
    "print \"Accuracy:\", metrics.accuracy_score(y_obs, y_pred)\n",
    "print \"Hamming Loss:\", metrics.hamming_loss(y_obs, y_pred)\n",
    "print \"Precision:\", metrics.precision_score(y_obs, y_pred)\n",
    "print \"Recall:\", metrics.recall_score(y_obs, y_pred)\n",
    "print \"F1:\", metrics.f1_score(y_obs, y_pred)\n",
    "print \"Jaccard:\", metrics.jaccard_similarity_score(y_obs, y_pred)"
   ]
  },
  {
   "cell_type": "markdown",
   "metadata": {},
   "source": [
    "Our words are not very good at predicting whether something belongs to the clusters identified above."
   ]
  },
  {
   "cell_type": "code",
   "execution_count": 134,
   "metadata": {
    "collapsed": false
   },
   "outputs": [
    {
     "name": "stdout",
     "output_type": "stream",
     "text": [
      "79\n",
      "Top 10 words:\n",
      "('customer', 11)\n",
      "(u'employee', 8)\n",
      "('culture', 8)\n",
      "('collaborative', 5)\n",
      "('innovative', 4)\n",
      "('conservative', 4)\n",
      "('innovation', 4)\n",
      "('focused', 4)\n",
      "('family', 4)\n",
      "('high', 4)\n",
      "224\n",
      "Top 10 words:\n",
      "('collaborative', 26)\n",
      "('culture', 24)\n",
      "('customer', 21)\n",
      "('driven', 18)\n",
      "(u'value', 17)\n",
      "('focused', 15)\n",
      "('respect', 14)\n",
      "('oriented', 14)\n",
      "('integrity', 13)\n",
      "('open', 12)\n",
      "780\n",
      "Top 10 words:\n",
      "('culture', 58)\n",
      "('collaborative', 54)\n",
      "('team', 45)\n",
      "('family', 44)\n",
      "('open', 43)\n",
      "('work', 41)\n",
      "('oriented', 41)\n",
      "('customer', 39)\n",
      "('focused', 32)\n",
      "('professional', 32)\n",
      "116\n",
      "Top 10 words:\n",
      "(u'employee', 10)\n",
      "('customer', 9)\n",
      "('service', 8)\n",
      "('oriented', 8)\n",
      "('integrity', 7)\n",
      "('culture', 7)\n",
      "('family', 6)\n",
      "('entrepreneurial', 6)\n",
      "('collaborative', 6)\n",
      "('excellence', 5)\n",
      "0.871559633028\n",
      "Accuracy: 0.871559633028\n",
      "Hamming Loss: 0.128440366972\n",
      "Precision: 0.0\n",
      "Recall: 0.0\n",
      "F1: 0.0\n",
      "Jaccard: 0.871559633028\n"
     ]
    }
   ],
   "source": [
    "k=7\n",
    "clusters=fcluster(Z,k,criterion='maxclust')\n",
    "\n",
    "dfc = { 'cluster_no' : pd.Series(clusters),\n",
    "        'culture_text': pd.Series(tcorpus),\n",
    "        'orig_text': pd.Series(culture_text)\n",
    "      }\n",
    "dfc = pd.DataFrame(dfc)\n",
    "dfc['orig_text']=dfc['orig_text'].to_string()\n",
    "\n",
    "cluster_one = dfc.loc[dfc['cluster_no'] == 1]['culture_text']\n",
    "print(len(cluster_one))\n",
    "tot_allwords=joinlists(cluster_one)\n",
    "print(\"Top 10 words:\")\n",
    "for ind_word in top_words(tot_allwords,10):\n",
    "    print ind_word\n",
    "\n",
    "cluster_two = dfc.loc[dfc['cluster_no'] == 2]['culture_text']\n",
    "print(len(cluster_two))\n",
    "tot_allwords=joinlists(cluster_two)\n",
    "print(\"Top 10 words:\")\n",
    "for ind_word in top_words(tot_allwords,10):\n",
    "    print ind_word\n",
    "    \n",
    "cluster_three = dfc.loc[dfc['cluster_no'] == 3]['culture_text']\n",
    "print(len(cluster_three))\n",
    "tot_allwords=joinlists(cluster_three)\n",
    "print(\"Top 10 words:\")\n",
    "for ind_word in top_words(tot_allwords,10):\n",
    "    print ind_word\n",
    "\n",
    "cluster_four = dfc.loc[dfc['cluster_no'] == 4]['culture_text']\n",
    "print(len(cluster_four))\n",
    "tot_allwords=joinlists(cluster_four)\n",
    "print(\"Top 10 words:\")\n",
    "for ind_word in top_words(tot_allwords,10):\n",
    "    print ind_word\n",
    "\n",
    "\n",
    "dfc['cluster_no'] = dfc['cluster_no'].map({1:0,2:1,3:0,4:0,5:0,6:0,7:0})\n",
    "dfc = dfc.dropna()\n",
    "x_train, x_test, y_train, y_test = cross_validation.train_test_split(dfc['orig_text'],dfc['cluster_no'],test_size=0.5)\n",
    "\n",
    "mypipeline=Pipeline([\n",
    "  ('cvect', CountVectorizer(ngram_range=(1, 2), stop_words=nltk.corpus.stopwords.words('english'))),\n",
    "  ('tfidf', TfidfTransformer()),\n",
    "  ('rclassify', ensemble.RandomForestClassifier())\n",
    "])\n",
    "\n",
    "mypipeline.fit(x_train,y_train)\n",
    "print(mypipeline.score(x_test,y_test))\n",
    "\n",
    "y_pred = mypipeline.predict(x_test)\n",
    "y_obs=y_test\n",
    "print \"Accuracy:\", metrics.accuracy_score(y_obs, y_pred)\n",
    "print \"Hamming Loss:\", metrics.hamming_loss(y_obs, y_pred)\n",
    "print \"Precision:\", metrics.precision_score(y_obs, y_pred)\n",
    "print \"Recall:\", metrics.recall_score(y_obs, y_pred)\n",
    "print \"F1:\", metrics.f1_score(y_obs, y_pred)\n",
    "print \"Jaccard:\", metrics.jaccard_similarity_score(y_obs, y_pred)"
   ]
  },
  {
   "cell_type": "markdown",
   "metadata": {},
   "source": [
    "Apparently, what is written in the text is not reflective of the natural clusters formed via the structured variables.\n",
    "[In other words, there are natural divisions that form among the companies investigated. However, they have little to do with the culture as explained verbally.]\n",
    "Future steps: concatenate all the written text together, see if whether there is more of a difference then."
   ]
  }
 ],
 "metadata": {
  "kernelspec": {
   "display_name": "Python 2",
   "language": "python",
   "name": "python2"
  },
  "language_info": {
   "codemirror_mode": {
    "name": "ipython",
    "version": 2
   },
   "file_extension": ".py",
   "mimetype": "text/x-python",
   "name": "python",
   "nbconvert_exporter": "python",
   "pygments_lexer": "ipython2",
   "version": "2.7.11"
  }
 },
 "nbformat": 4,
 "nbformat_minor": 0
}
