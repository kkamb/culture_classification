{
 "cells": [
  {
   "cell_type": "markdown",
   "metadata": {},
   "source": [
    "I was curious about Var. 5:\n",
    "\n",
    "Var. 5\tFmt: N2\tCol: 3507-3508\tName: Q4 (E)\n",
    "\t4b. Our firm's corporate culture: (choose best option)\n",
    "\t1=Is exactly where it should be\t3=Needs considerable work to get to where it should be\n",
    "\t2=Needs some work but is close to where it should be\t4=Needs a substantial overhaul\n",
    "\n",
    "What are the major differences between what people who voted 1 and those who voted 4 said about their company's culture? Lets compare."
   ]
  },
  {
   "cell_type": "code",
   "execution_count": 1,
   "metadata": {
    "collapsed": false
   },
   "outputs": [],
   "source": [
    "%matplotlib inline\n",
    "\n",
    "import pandas as pd\n",
    "import numpy as np\n",
    "from sklearn.base import BaseEstimator, RegressorMixin, TransformerMixin\n",
    "import re\n",
    "import pickle as pk\n",
    "\n",
    "import seaborn as sns\n",
    "import numpy as np\n",
    "import nltk.tokenize as tokenize\n",
    "\n",
    "from sklearn.feature_extraction.text import CountVectorizer, HashingVectorizer, TfidfTransformer\n",
    "from sklearn.feature_selection import SelectKBest, chi2\n",
    "from sklearn import cross_validation, grid_search\n",
    "from sklearn.pipeline import FeatureUnion, Pipeline\n",
    "from sklearn import linear_model, decomposition\n",
    "import nltk\n",
    "\n",
    "from nltk.stem import WordNetLemmatizer\n",
    "from nltk import word_tokenize\n",
    "from nltk.corpus import stopwords, words\n",
    "\n",
    "import matplotlib\n",
    "matplotlib.style.use('ggplot')"
   ]
  },
  {
   "cell_type": "code",
   "execution_count": 2,
   "metadata": {
    "collapsed": true
   },
   "outputs": [],
   "source": [
    "def strfy(x):\n",
    "    return x.fillna(\".\").map(str)\n",
    "\n",
    "\n",
    "df = pd.read_csv('corporate_culture_trunc.csv', encoding='latin-1') #reads csv into dataframe\n",
    "df = df.dropna(subset=['Q1']) #drop row if no description (NaN in Q1)\n",
    "dfs = df.Q1\n",
    "dfs = [dfs1.encode('utf-8') for dfs1 in dfs]\n",
    "df.Q1 = dfs\n",
    "\n",
    "##LETS MERGE TEXT TOGETHER\n",
    "df['merge_text'] = df.Q1.map(str)+strfy(df.Q6_Other)+strfy(df.Q13_5_Other)+strfy(df.Q14_Other)\n",
    "df['merge_text'] = df['merge_text']+strfy(df.Q14_OE_2)+strfy(df.Q14_OE_3)+strfy(df.Q14_OE_5)+strfy(df.Q14_OE_6)+strfy(df.Q14_OE_7)+strfy(df.Q14_OE_8)+strfy(df.Q14_OE_9)+strfy(df.Q14_OE_11)+strfy(df.Q14_OE_12)\n",
    "\n",
    "df = df.drop(['Q6_Other','Q13_5_Other','Q14_Other','Q14_OE_1','Q14_OE_2','Q14_OE_3','Q14_OE_4','Q14_OE_5','Q14_OE_6','Q14_OE_7','Q14_OE_8','Q14_OE_9','Q14_OE_10','Q14_OE_9','Q14_OE_10','Q14_OE_11','Q14_OE_12'],axis=1)\n"
   ]
  },
  {
   "cell_type": "code",
   "execution_count": 12,
   "metadata": {
    "collapsed": false
   },
   "outputs": [
    {
     "name": "stdout",
     "output_type": "stream",
     "text": [
      "447\n"
     ]
    }
   ],
   "source": [
    "df_hl = df.loc[(df[\"Q4\"] == 1) | (df[\"Q4\"] == 4)] #hates or loves the culture\n",
    "print(len(df_hl))\n",
    "\n",
    "culture_text=df_hl['Q1'] #takes only the first column\n",
    "culture_text2=df_hl['merge_text'] #takes text merged from several columns\n",
    "\n",
    "\n",
    "x_train, x_test, y_train, y_test = cross_validation.train_test_split(culture_text,df_hl['Q4'],test_size=0.2)\n",
    "x_train2, x_test2, y_train2, y_test2 = cross_validation.train_test_split(culture_text2,df_hl['Q4'],test_size=0.2)\n",
    "\n",
    "#print(list(df_all.columns.values))"
   ]
  },
  {
   "cell_type": "code",
   "execution_count": 13,
   "metadata": {
    "collapsed": false
   },
   "outputs": [
    {
     "name": "stdout",
     "output_type": "stream",
     "text": [
      "0.822222222222\n",
      "0.811111111111\n"
     ]
    }
   ],
   "source": [
    "mypipeline=Pipeline([\n",
    "  ('cvect', CountVectorizer(ngram_range=(1, 2), stop_words=nltk.corpus.stopwords.words('english'))),\n",
    "  ('tfidf', TfidfTransformer()),\n",
    "  ('rclassify', linear_model.RidgeClassifier())\n",
    "])\n",
    "\n",
    "mypipeline.fit(x_train,y_train)\n",
    "print(mypipeline.score(x_test,y_test))\n",
    "mypipeline.fit(x_train2,y_train2)\n",
    "print(mypipeline.score(x_test2,y_test2))\n",
    "\n",
    "## EIGHTY PERCENT ACCURACY RATE"
   ]
  },
  {
   "cell_type": "code",
   "execution_count": 14,
   "metadata": {
    "collapsed": false
   },
   "outputs": [
    {
     "name": "stdout",
     "output_type": "stream",
     "text": [
      "2350\n",
      "0.833333333333\n"
     ]
    }
   ],
   "source": [
    "cvect = CountVectorizer(ngram_range=(1, 1), stop_words=nltk.corpus.stopwords.words('english'))\n",
    "Xvect = cvect.fit_transform(culture_text2)\n",
    "print(Xvect.shape)[1]\n",
    "Xvect_names = cvect.get_feature_names()\n",
    "tfidf = TfidfTransformer()\n",
    "Xtfidf = tfidf.fit_transform(Xvect)\n",
    "\n",
    "x_train, x_test, y_train, y_test = cross_validation.train_test_split(Xtfidf,df_hl['Q4'],test_size=0.2)\n",
    "\n",
    "ridge_reg = linear_model.RidgeClassifier()\n",
    "ridge_reg.fit(x_train, y_train)\n",
    "print(ridge_reg.score(x_test,y_test))\n",
    "xarray = ridge_reg.coef_\n",
    "\n",
    "xlist=[]\n",
    "for i in range(xarray.shape[1]):\n",
    "    if xarray[0][i] != 0:\n",
    "        xlist.append({'word':Xvect_names[i], 'beta':xarray[0][i], 'absbeta':abs(xarray[0][i])})"
   ]
  },
  {
   "cell_type": "code",
   "execution_count": 128,
   "metadata": {
    "collapsed": false
   },
   "outputs": [
    {
     "name": "stdout",
     "output_type": "stream",
     "text": [
      "(u'open', -0.96424683447305848)\n",
      "(u'customer', -0.9458448628881686)\n",
      "(u'integrity', -0.90759968121923895)\n",
      "(u'lack', 0.86487500171961296)\n",
      "(u'professional', -0.79923418766377208)\n",
      "(u'collaborative', -0.78268347244186487)\n",
      "(u'right', -0.77363298365784494)\n",
      "(u'toxic', 0.75370931467298963)\n",
      "(u'change', 0.75226441892105356)\n",
      "(u'silos', 0.71333925499877859)\n",
      "(u'healthy', -0.71258612775350672)\n",
      "(u'opportunity', -0.704686097792809)\n",
      "(u'fun', -0.69026699532102653)\n",
      "(u'team', -0.6795651824040676)\n",
      "(u'unstructured', 0.67756599223692504)\n",
      "(u'clients', -0.66489897750354654)\n",
      "(u'respect', -0.65667228078188078)\n",
      "(u'supportive', -0.65559731556818934)\n",
      "(u'opaque', 0.65112278124470235)\n",
      "(u'innovation', -0.64923591429934269)\n",
      "(u'unstructed', 0.63943630362563741)\n",
      "(u'autocratic', 0.62639530795070941)\n",
      "(u'bad', 0.61054144793787324)\n",
      "(u'political', 0.60908573434982705)\n",
      "(u'dysfunctional', 0.59905002056498269)\n",
      "(u'collegial', -0.59655844334909802)\n",
      "(u'secretive', 0.59639149411615222)\n",
      "(u'bureaucracy', 0.58345232813185022)\n",
      "(u'chaos', 0.58243862207459995)\n",
      "(u'verify', 0.57916711629840556)\n",
      "(u'siloed', 0.57706835377411725)\n",
      "(u'little', 0.57504230036791204)\n",
      "(u'relaxed', -0.57382712173649186)\n",
      "(u'play', -0.5722339326390764)\n",
      "(u'teamwork', -0.57107435587402389)\n",
      "(u'stressful', 0.56390152772945312)\n",
      "(u'top', 0.56010804908586975)\n",
      "(u'strong', -0.5584607821548434)\n",
      "(u'innovative', -0.55681100544492479)\n",
      "(u'honesty', -0.55334078594963709)\n",
      "(u'fear', 0.53975121509555546)\n",
      "(u'excellence', -0.53201607642883264)\n",
      "(u'oppressive', 0.52662065026019578)\n",
      "(u'low', 0.52574912589573053)\n",
      "(u'friendly', -0.52282981056674094)\n",
      "(u'broken', 0.51990845304108968)\n",
      "(u'ethical', -0.51989694989307045)\n",
      "(u'great', 0.51868924663193461)\n",
      "(u'coraboration', -0.51668079864079675)\n",
      "(u'stable', -0.51665042284522966)\n",
      "(u'cfo', -0.51664818839273441)\n",
      "(u'empowering', -0.51664480337713536)\n",
      "(u'resonant', -0.51664077634046912)\n",
      "(u'collegiate', -0.51663381121142149)\n",
      "(u'sales', 0.51535068118798888)\n",
      "(u'dictatorial', 0.51273524427394368)\n",
      "(u'caring', -0.51260843531939715)\n",
      "(u'christian', -0.51058737000942356)\n",
      "(u'responsibility', -0.50959325917462184)\n",
      "(u'non', 0.50880511747993618)\n"
     ]
    }
   ],
   "source": [
    "newlist = sorted(xlist, key=lambda k: k['absbeta'],reverse=True)\n",
    "for news in newlist[0:60]:\n",
    "    print(news['word'],news['beta'])"
   ]
  },
  {
   "cell_type": "markdown",
   "metadata": {
    "collapsed": true
   },
   "source": [
    "Top words that people who like their company culture used [in order of importance]:\n",
    "\n",
    "open, customer, integrity, professional, collaborative, right, healthy, opportunity, fun, team, clients, respect, supportive, innovation, collegial, relaxed, play, teamwork, strong, innovative, honesty, excellence, friendly, ethical, collaboration, stable, cfo, empowering, resonant, collegiate, caring, christian, responsibility\n",
    "\n",
    "\n",
    "Top words that people who didn't like their company culture used [in order of importance]:\n",
    "\n",
    "lack, toxic, change, silos, unstructured, opaque, unstructed, autocratic, bad, political, dysfunctional, secretive, bureaucracy, chaos, verify, siloed, little, stressful, top, fear, oppressive, low, great, sales, dictatorial, non"
   ]
  }
 ],
 "metadata": {
  "kernelspec": {
   "display_name": "Python 2",
   "language": "python",
   "name": "python2"
  },
  "language_info": {
   "codemirror_mode": {
    "name": "ipython",
    "version": 2
   },
   "file_extension": ".py",
   "mimetype": "text/x-python",
   "name": "python",
   "nbconvert_exporter": "python",
   "pygments_lexer": "ipython2",
   "version": "2.7.11"
  }
 },
 "nbformat": 4,
 "nbformat_minor": 0
}
