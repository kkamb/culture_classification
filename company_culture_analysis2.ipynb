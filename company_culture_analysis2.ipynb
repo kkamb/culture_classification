{
 "cells": [
  {
   "cell_type": "markdown",
   "metadata": {},
   "source": [
    "Var. 118\tFmt: N2\tCol: 16850-16851\tName: firm_location (DN)\n",
    "\t11b. Where is your firm located?\n",
    "\t1=US/Canada\t2=Africa\t3=Asia\t4=Europe\t5=Latin America\t"
   ]
  },
  {
   "cell_type": "code",
   "execution_count": 2,
   "metadata": {
    "collapsed": false
   },
   "outputs": [],
   "source": [
    "%matplotlib inline\n",
    "\n",
    "import pandas as pd\n",
    "import numpy as np\n",
    "from sklearn.base import BaseEstimator, RegressorMixin, TransformerMixin\n",
    "import re\n",
    "import pickle as pk\n",
    "\n",
    "import seaborn as sns\n",
    "import numpy as np\n",
    "import nltk.tokenize as tokenize\n",
    "\n",
    "from sklearn.feature_extraction.text import CountVectorizer, HashingVectorizer, TfidfTransformer\n",
    "from sklearn.feature_selection import SelectKBest, chi2\n",
    "from sklearn.multiclass import OneVsOneClassifier\n",
    "from sklearn import cross_validation, grid_search\n",
    "from sklearn.pipeline import FeatureUnion, Pipeline\n",
    "from sklearn import linear_model, decomposition\n",
    "from sklearn.svm import LinearSVC\n",
    "import nltk\n",
    "\n",
    "from nltk.stem import WordNetLemmatizer\n",
    "from nltk import word_tokenize\n",
    "from nltk.corpus import stopwords, words\n",
    "\n",
    "import matplotlib\n",
    "matplotlib.style.use('ggplot')"
   ]
  },
  {
   "cell_type": "code",
   "execution_count": 43,
   "metadata": {
    "collapsed": false
   },
   "outputs": [
    {
     "name": "stdout",
     "output_type": "stream",
     "text": [
      "400\n",
      "400\n",
      "400\n",
      "400\n"
     ]
    }
   ],
   "source": [
    "df_all = pd.read_csv('corporate_culture_trunc.csv', encoding='latin-1') #reads csv into dataframe\n",
    "df_all = df_all.dropna(subset=['Q1']) #drop row if no description (NaN in Q1)\n",
    "df_all = df_all.dropna(subset=['firm_location']) #drop row if no description (NaN in firm_location)\n",
    "culture_text=df_all['Q1'] #takes only the first column\n",
    "\n",
    "####US & CANADA = 1, REST = 0\n",
    "df_all.loc[df_all['firm_location']==2, 'firm_location'] = 0\n",
    "df_all.loc[df_all['firm_location']==3, 'firm_location'] = 0\n",
    "df_all.loc[df_all['firm_location']==4, 'firm_location'] = 0\n",
    "df_all.loc[df_all['firm_location']==5, 'firm_location'] = 0\n",
    "df_all2 = df_all[df_all['firm_location']==1][0:400]\n",
    "df_all2 = df_all2[['Q1','firm_location']]\n",
    "df_all0 = df_all[df_all['firm_location']==0]\n",
    "df_all0 = df_all0[['Q1','firm_location']]\n",
    "print(len(df_all2))\n",
    "df_all2.append(df_all0)\n",
    "print(len(df_all2))\n",
    "\n",
    "x_train, x_test, y_train, y_test = cross_validation.train_test_split(df_all2['Q1'],df_all2['firm_location'],test_size=0.2)\n",
    "\n",
    "print(len(df_all2.loc[df_all['firm_location']==1]))\n",
    "print(len(df_all2))"
   ]
  },
  {
   "cell_type": "code",
   "execution_count": 37,
   "metadata": {
    "collapsed": false
   },
   "outputs": [
    {
     "data": {
      "text/plain": [
       "0.8314366998577525"
      ]
     },
     "execution_count": 37,
     "metadata": {},
     "output_type": "execute_result"
    }
   ],
   "source": [
    "1169.0/1406.0"
   ]
  },
  {
   "cell_type": "code",
   "execution_count": 30,
   "metadata": {
    "collapsed": false
   },
   "outputs": [
    {
     "name": "stdout",
     "output_type": "stream",
     "text": [
      "0.808510638298\n"
     ]
    }
   ],
   "source": [
    "mypipeline=Pipeline([\n",
    "  ('cvect', CountVectorizer(ngram_range=(1, 2), stop_words=nltk.corpus.stopwords.words('english'))),\n",
    "  ('tfidf', TfidfTransformer()),\n",
    "  ('rclassify', linear_model.RidgeClassifier())\n",
    "])\n",
    "\n",
    "mypipeline.fit(x_train,y_train)\n",
    "print(mypipeline.score(x_test,y_test))\n",
    "\n",
    "## EIGHTY PERCENT ACCURACY RATE... Worse than guessing"
   ]
  },
  {
   "cell_type": "code",
   "execution_count": 32,
   "metadata": {
    "collapsed": false
   },
   "outputs": [
    {
     "name": "stdout",
     "output_type": "stream",
     "text": [
      "2326\n",
      "0.812056737589\n"
     ]
    }
   ],
   "source": [
    "cvect = CountVectorizer(ngram_range=(1, 1), stop_words=nltk.corpus.stopwords.words('english'))\n",
    "Xvect = cvect.fit_transform(df_all['Q1'])\n",
    "print(Xvect.shape)[1]\n",
    "Xvect_names = cvect.get_feature_names()\n",
    "tfidf = TfidfTransformer()\n",
    "Xtfidf = tfidf.fit_transform(Xvect)\n",
    "\n",
    "x_train, x_test, y_train, y_test = cross_validation.train_test_split(Xtfidf,df_all['firm_location'],test_size=0.2)\n",
    "\n",
    "ridge_reg = linear_model.RidgeClassifier()\n",
    "ridge_reg.fit(x_train, y_train)\n",
    "print(ridge_reg.score(x_test,y_test))\n",
    "xarray = ridge_reg.coef_\n",
    "\n",
    "xlist=[]\n",
    "for i in range(xarray.shape[1]):\n",
    "    if xarray[0][i] != 0:\n",
    "        xlist.append({'word':Xvect_names[i], 'beta':xarray[0][i], 'absbeta':abs(xarray[0][i])})"
   ]
  },
  {
   "cell_type": "code",
   "execution_count": 33,
   "metadata": {
    "collapsed": false
   },
   "outputs": [
    {
     "name": "stdout",
     "output_type": "stream",
     "text": [
      "(u'mind', -1.0887657955512611)\n",
      "(u'urgent', -1.0745562049606348)\n",
      "(u'entrepreneurship', -0.99315003914925926)\n",
      "(u'opaque', -0.99128160513573038)\n",
      "(u'closed', -0.98865378458487074)\n",
      "(u'bureaucracy', -0.98737068704330277)\n",
      "(u'social', -0.97479043103391416)\n",
      "(u'individualistic', -0.91726202453623806)\n",
      "(u'action', -0.90633608306572466)\n",
      "(u'progressing', -0.88731503003992584)\n",
      "(u'services', -0.84170933629765943)\n",
      "(u'moderate', -0.83340561583755435)\n",
      "(u'proud', -0.82912533777798403)\n",
      "(u'knowledge', -0.82887407087342047)\n",
      "(u'successful', -0.81956685544904795)\n",
      "(u'comitment', -0.78807196234609833)\n",
      "(u'missing', -0.78782993097832898)\n",
      "(u'collegiate', -0.78782982908160137)\n",
      "(u'light', -0.78782531534747824)\n",
      "(u'aguantar', -0.78781685070177843)\n",
      "(u'collegian', -0.78779786587134826)\n",
      "(u'ghghhg', -0.78772791660369945)\n",
      "(u'nice', -0.77319591658910458)\n",
      "(u'governance', -0.7559016436893109)\n",
      "(u'sharing', -0.75467603347566181)\n",
      "(u'sincerity', -0.75301387203203851)\n",
      "(u'determined', -0.74671135882647965)\n",
      "(u'diversity', -0.74306500083682403)\n",
      "(u'professionalism', -0.73886332267414789)\n",
      "(u'rewards', -0.73693516220235877)\n",
      "(u'uncertainties', -0.72575581838553482)\n",
      "(u'relations', -0.71977628128804205)\n",
      "(u'management', -0.71311328368069482)\n",
      "(u'broken', -0.71136459390863405)\n",
      "(u'simple', -0.69828608174207851)\n",
      "(u'bullying', -0.696514556490613)\n",
      "(u'insurance', -0.68054553289520425)\n",
      "(u'diversified', -0.6772554073679431)\n",
      "(u'courageous', -0.67543327617488202)\n",
      "(u'dynamic', -0.67503967279288746)\n",
      "(u'operative', -0.66998628586318398)\n",
      "(u'partnership', -0.64995648066022016)\n",
      "(u'specific', -0.64460748144881319)\n",
      "(u'trustworthy', -0.64279059472938982)\n",
      "(u'process', -0.64023821150458637)\n",
      "(u'sustainabilty', -0.64015588109620136)\n",
      "(u'walls', -0.63777163306829632)\n",
      "(u'concerns', -0.63365497142632854)\n",
      "(u'relationships', 0.6328423076437345)\n",
      "(u'challenge', -0.63045768383805245)\n",
      "(u'demotivating', -0.61422316759067319)\n",
      "(u'naysayers', -0.61276068757623026)\n",
      "(u'irrational', -0.6087920443867284)\n",
      "(u'represent', -0.60536542247195513)\n",
      "(u'consumer', -0.60460597884627043)\n",
      "(u'sustainable', -0.60455228429818675)\n",
      "(u'tolerance', -0.60454085177576034)\n",
      "(u'stabbing', -0.59950481669636846)\n",
      "(u'ethics', -0.59471304556952675)\n",
      "(u'institutional', -0.59154489766333551)\n"
     ]
    }
   ],
   "source": [
    "newlist = sorted(xlist, key=lambda k: k['beta'],reverse=True)\n",
    "for news in newlist[0:20]:\n",
    "    print(news['word'],news['beta'])"
   ]
  },
  {
   "cell_type": "markdown",
   "metadata": {
    "collapsed": true
   },
   "source": [
    "Top words that people who like their company culture used [in order of importance]:\n",
    "\n",
    "open, customer, integrity, professional, collaborative, right, healthy, opportunity, fun, team, clients, respect, supportive, innovation, collegial, relaxed, play, teamwork, strong, innovative, honesty, excellence, friendly, ethical, collaboration, stable, cfo, empowering, resonant, collegiate, caring, christian, responsibility\n",
    "\n",
    "\n",
    "Top words that people who didn't like their company culture used [in order of importance]:\n",
    "\n",
    "lack, toxic, change, silos, unstructured, opaque, unstructed, autocratic, bad, political, dysfunctional, secretive, bureaucracy, chaos, verify, siloed, little, stressful, top, fear, oppressive, low, great, sales, dictatorial, non"
   ]
  }
 ],
 "metadata": {
  "kernelspec": {
   "display_name": "Python 2",
   "language": "python",
   "name": "python2"
  },
  "language_info": {
   "codemirror_mode": {
    "name": "ipython",
    "version": 2
   },
   "file_extension": ".py",
   "mimetype": "text/x-python",
   "name": "python",
   "nbconvert_exporter": "python",
   "pygments_lexer": "ipython2",
   "version": "2.7.11"
  }
 },
 "nbformat": 4,
 "nbformat_minor": 0
}
