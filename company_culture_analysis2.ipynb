{
 "cells": [
  {
   "cell_type": "markdown",
   "metadata": {},
   "source": [
    "# Testing whether various fields can be predicted by the text\n"
   ]
  },
  {
   "cell_type": "code",
   "execution_count": 1,
   "metadata": {
    "collapsed": false
   },
   "outputs": [],
   "source": [
    "%matplotlib inline\n",
    "\n",
    "import pandas as pd\n",
    "import numpy as np\n",
    "import re\n",
    "\n",
    "from sklearn.feature_extraction.text import CountVectorizer, TfidfTransformer\n",
    "from sklearn.feature_selection import SelectKBest, chi2\n",
    "from sklearn.multiclass import OneVsOneClassifier\n",
    "from sklearn import cross_validation, grid_search\n",
    "from sklearn.pipeline import Pipeline\n",
    "from sklearn import linear_model, ensemble, svm\n",
    "from sklearn.svm import LinearSVC\n",
    "\n",
    "import nltk\n",
    "from nltk.corpus import stopwords, words\n",
    "\n",
    "import matplotlib\n",
    "matplotlib.style.use('ggplot')"
   ]
  },
  {
   "cell_type": "code",
   "execution_count": 3,
   "metadata": {
    "collapsed": true
   },
   "outputs": [],
   "source": [
    "## READ IN FILE, CLEAN UP EXTRANEOUS CHARACTERS\n",
    "def strfy(x):\n",
    "    return x.fillna(\".\").map(str)\n",
    "\n",
    "\n",
    "df_all = pd.read_csv('corporate_culture_trunc.csv', encoding='latin-1') #reads csv into dataframe\n",
    "df_all = df_all.dropna(subset=['Q1']) #drop row if no description (NaN in Q1)\n",
    "dfs = df_all.Q1\n",
    "dfs = [dfs1.encode('utf-8') for dfs1 in dfs]\n",
    "df_all.Q1 = dfs\n",
    "df_all['merge_text'] = df_all.Q1.map(str) + strfy(df_all.Q6_Other) + df_all.Q13_5_Other.fillna(\".\").map(str)\n"
   ]
  },
  {
   "cell_type": "markdown",
   "metadata": {},
   "source": [
    "Var. 118\tFmt: N2\tCol: 16850-16851\tName: firm_location (DN)\n",
    "\t11b. Where is your firm located?\n",
    "\t1=US/Canada\t2=Africa\t3=Asia\t4=Europe\t5=Latin America\t"
   ]
  },
  {
   "cell_type": "code",
   "execution_count": 28,
   "metadata": {
    "collapsed": false
   },
   "outputs": [
    {
     "name": "stdout",
     "output_type": "stream",
     "text": [
      "0.435897435897\n",
      "0.625\n"
     ]
    }
   ],
   "source": [
    "country1=3 #Asia\n",
    "country2=4 #Europe\n",
    "col_name=\"firm_location\"\n",
    "\n",
    "df_all = df_all.dropna(subset=[col_name]) #drop row if no description (NaN in firm_location)\n",
    "\n",
    "df_hl = df_all.loc[(df_all[col_name] == country1) | (df_all[col_name] == country2)]\n",
    "print(float(len(df_hl[df_hl[col_name]==country1]))/float(len(df_hl)))\n",
    "\n",
    "x_train, x_test, y_train, y_test = cross_validation.train_test_split(df_hl['merge_text'],df_hl[col_name],test_size=0.2)\n",
    "\n",
    "mypipeline=Pipeline([\n",
    "  ('cvect', CountVectorizer(ngram_range=(1, 2), stop_words=nltk.corpus.stopwords.words('english'))),\n",
    "  ('tfidf', TfidfTransformer()),\n",
    "  ('rclassify', svm.SVC(gamma=2))\n",
    "])\n",
    "\n",
    "mypipeline.fit(x_train,y_train)\n",
    "print(mypipeline.score(x_test,y_test))\n"
   ]
  },
  {
   "cell_type": "markdown",
   "metadata": {
    "collapsed": false
   },
   "source": [
    "There does not seem to be a significant difference in the description of culture given in [Q1] between different countries."
   ]
  },
  {
   "cell_type": "markdown",
   "metadata": {},
   "source": [
    "Var. 114\tFmt: N2\tCol: 16841-16842\tName: Ownership (DJ)\n",
    "\tOwnership\n",
    "\t1=Public\t2=Private\t3=Government or non-profit\t\n"
   ]
  },
  {
   "cell_type": "code",
   "execution_count": 23,
   "metadata": {
    "collapsed": false
   },
   "outputs": [
    {
     "name": "stdout",
     "output_type": "stream",
     "text": [
      "0.161706349206\n",
      "0.841584158416\n"
     ]
    }
   ],
   "source": [
    "type1=3\n",
    "type2=2\n",
    "col_name=\"Ownership\"\n",
    "\n",
    "df_all = df_all.dropna(subset=[col_name]) #drop row if no description (NaN in firm_location)\n",
    "\n",
    "df_hl = df_all.loc[(df_all[col_name] == type1) | (df_all[col_name] == type2)]\n",
    "print(float(len(df_hl[df_hl[col_name]== type1]))/float(len(df_hl)))\n",
    "\n",
    "x_train, x_test, y_train, y_test = cross_validation.train_test_split(df_hl['merge_text'],df_hl[col_name],test_size=0.2)\n",
    "\n",
    "mypipeline=Pipeline([\n",
    "  ('cvect', CountVectorizer(ngram_range=(1, 2), stop_words=nltk.corpus.stopwords.words('english'))),\n",
    "  ('tfidf', TfidfTransformer()),\n",
    "  ('rclassify', ensemble.RandomForestClassifier())\n",
    "])\n",
    "\n",
    "mypipeline.fit(x_train,y_train)\n",
    "print(mypipeline.score(x_test,y_test))\n"
   ]
  },
  {
   "cell_type": "code",
   "execution_count": null,
   "metadata": {
    "collapsed": true
   },
   "outputs": [],
   "source": [
    "No significant difference re: ownership, either"
   ]
  },
  {
   "cell_type": "markdown",
   "metadata": {},
   "source": []
  }
 ],
 "metadata": {
  "kernelspec": {
   "display_name": "Python 2",
   "language": "python",
   "name": "python2"
  },
  "language_info": {
   "codemirror_mode": {
    "name": "ipython",
    "version": 2
   },
   "file_extension": ".py",
   "mimetype": "text/x-python",
   "name": "python",
   "nbconvert_exporter": "python",
   "pygments_lexer": "ipython2",
   "version": "2.7.11"
  }
 },
 "nbformat": 4,
 "nbformat_minor": 0
}
