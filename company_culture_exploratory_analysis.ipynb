{
 "cells": [
  {
   "cell_type": "markdown",
   "metadata": {},
   "source": [
    "Exploring whether there are any valid/natural clusters for the keywords mentioned in [Q1], that could help identify/categorize corporate culture."
   ]
  },
  {
   "cell_type": "code",
   "execution_count": 1,
   "metadata": {
    "collapsed": false
   },
   "outputs": [],
   "source": [
    "%matplotlib inline\n",
    "\n",
    "import pandas as pd\n",
    "import numpy as np\n",
    "import re, nltk, operator, itertools, gensim, math\n",
    "from collections import defaultdict\n",
    "from nltk.stem import WordNetLemmatizer\n",
    "from nltk.corpus import stopwords\n",
    "from operator import itemgetter\n",
    "from gensim import corpora, models\n",
    "\n",
    "from sklearn.feature_extraction.text import TfidfVectorizer\n",
    "from sklearn.metrics.pairwise import cosine_similarity\n",
    "from sklearn.cluster import KMeans, DBSCAN\n",
    "from sklearn import metrics\n",
    "from sklearn.externals import joblib\n",
    "from sklearn.preprocessing import StandardScaler\n",
    "\n",
    "import matplotlib\n",
    "from matplotlib import pyplot as plt\n",
    "matplotlib.style.use('ggplot')"
   ]
  },
  {
   "cell_type": "code",
   "execution_count": null,
   "metadata": {
    "collapsed": true
   },
   "outputs": [],
   "source": [
    "def strfy(x):\n",
    "    return x.fillna(\".\").map(str)\n",
    "\n",
    "\n",
    "df = pd.read_csv('corporate_culture_trunc.csv', encoding='latin-1') #reads csv into dataframe\n",
    "df = df.dropna(subset=['Q1']) #drop row if no description (NaN in Q1)\n",
    "dfs = df.Q1\n",
    "dfs = [dfs1.encode('utf-8') for dfs1 in dfs]\n",
    "df.Q1 = dfs\n",
    "\n",
    "##LETS MERGE TEXT TOGETHER\n",
    "df['merge_text'] = df.Q1.map(str)+strfy(df.Q6_Other)+strfy(df.Q13_5_Other)+strfy(df.Q14_Other)\n",
    "df['merge_text'] = df['merge_text']+strfy(df.Q14_OE_2)+strfy(df.Q14_OE_3)+strfy(df.Q14_OE_5)+strfy(df.Q14_OE_6)+strfy(df.Q14_OE_7)+strfy(df.Q14_OE_8)+strfy(df.Q14_OE_9)+strfy(df.Q14_OE_11)+strfy(df.Q14_OE_12)\n",
    "\n",
    "df = df.drop(['Q6_Other','Q13_5_Other','Q14_Other','Q14_OE_1','Q14_OE_2','Q14_OE_3','Q14_OE_4','Q14_OE_5','Q14_OE_6','Q14_OE_7','Q14_OE_8','Q14_OE_9','Q14_OE_10','Q14_OE_9','Q14_OE_10','Q14_OE_11','Q14_OE_12'],axis=1)\n"
   ]
  },
  {
   "cell_type": "code",
   "execution_count": 23,
   "metadata": {
    "collapsed": false
   },
   "outputs": [],
   "source": [
    "def strfy(x):\n",
    "    return x.fillna(\".\").map(str)\n",
    "\n",
    "\n",
    "df = pd.read_csv('corporate_culture_trunc.csv', encoding='latin-1') #reads csv into dataframe\n",
    "df = df.dropna(subset=['Q1']) #drop row if no description (NaN in Q1)\n",
    "dfs = df.Q1\n",
    "dfs = [dfs1.encode('utf-8') for dfs1 in dfs]\n",
    "df.Q1 = dfs\n",
    "\n",
    "##LETS MERGE TEXT TOGETHER\n",
    "df['merge_text'] = df.Q1.map(str)+strfy(df.Q6_Other)+strfy(df.Q13_5_Other)+strfy(df.Q14_Other)\n",
    "df['merge_text'] = df['merge_text']+strfy(df.Q14_OE_2)+strfy(df.Q14_OE_3)+strfy(df.Q14_OE_5)+strfy(df.Q14_OE_6)+strfy(df.Q14_OE_7)+strfy(df.Q14_OE_8)+strfy(df.Q14_OE_9)+strfy(df.Q14_OE_11)+strfy(df.Q14_OE_12)\n",
    "\n",
    "df = df.drop(['Q6_Other','Q13_5_Other','Q14_Other','Q14_OE_1','Q14_OE_2','Q14_OE_3','Q14_OE_4','Q14_OE_5','Q14_OE_6','Q14_OE_7','Q14_OE_8','Q14_OE_9','Q14_OE_10','Q14_OE_9','Q14_OE_10','Q14_OE_11','Q14_OE_12'],axis=1)\n"
   ]
  },
  {
   "cell_type": "code",
   "execution_count": 38,
   "metadata": {
    "collapsed": true
   },
   "outputs": [],
   "source": [
    "####\n",
    "culture_text2 = df.Q1 #Carrying out analysis just on the text in Q1\n",
    "culture_text=df.merge_text"
   ]
  },
  {
   "cell_type": "code",
   "execution_count": 39,
   "metadata": {
    "collapsed": false
   },
   "outputs": [
    {
     "name": "stdout",
     "output_type": "stream",
     "text": [
      "1679\n",
      "The first ten results:\n",
      "[['integrity', 'professionalism', 'develop', u'system'], ['want', u'customer', 'understand', u'need', u'commitment', 'innovative', u'solution', 'top', 'quality', u'product', u'service', 'competitive'], ['chaos', 'past', 'since', 'growing', 'fast', 'change', 'process', 'order', 'corporate', 'culture'], ['success', 'team', 'effort'], ['dynamic', 'startup', 'culture', 'little', 'hierarchy'], ['diversity', 'excellence', 'transparent', u'disclosure', 'provided', u'investor', 'required'], ['positive', u'attitude'], ['open', 'collaborative', 'professional', 'cooperative', 'sharing', 'direction', 'given', u'employee', 'take', u'risk', 'job', u'number', 'take', 'care', 'also', u'employee', 'free', u'superior', 'without', 'fear', 'negatively'], ['reporting', u'drive', 'front', 'end', u'action', 'new', u'initiative', 'ever', 'taken'], ['family', 'oriented', 'culture', u'need', 'done', 'deliver', 'customer', 'service', 'right', 'culture', 'use', 'capital', u'deal', 'believe', u'show', 'committed', 'success', 'project', 'given', 'family', 'owned', 'company', 'incentive', 'program', 'based', 'firm', 'value', 'creation', 'along', 'strong', u'ethic', 'culture', u'drive', 'level', 'risk', 'willing', 'take', 'project']]\n"
     ]
    }
   ],
   "source": [
    "###BELOW COMMANDS CARRY OUT THE STANDARD NLP IN ORDER TO VIEW THE TEXTUAL DATA IN MATRIX FORM#########\n",
    "\n",
    "lmtzr = WordNetLemmatizer() #lemmatizes words\n",
    "estopwords = set(stopwords.words('english')) #gets rid of stopwords (a, an, the...)\n",
    "ostopwords = ['wa','ha']\n",
    "\n",
    "def removewords(docwords,nmin,nmax):\n",
    "    #removes words above or below certain threshold\n",
    "    all_tokens=sum(docwords,[])\n",
    "    tokens_n=set(word for word in set(all_tokens) if all_tokens.count(word)<=nmin or all_tokens.count(word)>=nmax)\n",
    "    docwords = [[word for word in docs if word not in tokens_n]\n",
    "                for docs in docwords]\n",
    "    return docwords\n",
    "\n",
    "def lemmat(corpus):\n",
    "    #tokenizes and lemmatizes words, removes those above or below certain threshold\n",
    "    nmin = 4\n",
    "    nmax = len(corpus)/2\n",
    "    token_corpus = [[re.sub(r'[^\\w\\-\\s]','', word) for word in doc.lower().split()]\n",
    "          for doc in corpus]\n",
    "    token_corpus = [[lmtzr.lemmatize(w) for w in doc]\n",
    "                for doc in token_corpus]\n",
    "    token_corpus = [[w for w in doc if len(w)>1] #getting rid of words with only one letter\n",
    "            for doc in token_corpus]\n",
    "    token_corpus = [[w for w in doc if w not in estopwords] #getting rid of stopwords\n",
    "            for doc in token_corpus]\n",
    "    token_corpus = [[w for w in doc if w not in ostopwords] #getting rid of stopwords\n",
    "            for doc in token_corpus]\n",
    "    token_corpus = removewords(token_corpus,nmin,nmax)\n",
    "    return(token_corpus)\n",
    "\n",
    "tcorpus = lemmat(culture_text)\n",
    "tcorpus = [doc for doc in tcorpus if len(doc)>0] #get rid of observations with no values\n",
    "print(len(tcorpus)) #TOTAL OBSERVATIONS\n",
    "print(\"The first ten results:\")\n",
    "print(tcorpus[0:10])"
   ]
  },
  {
   "cell_type": "code",
   "execution_count": 40,
   "metadata": {
    "collapsed": false,
    "scrolled": true
   },
   "outputs": [
    {
     "name": "stdout",
     "output_type": "stream",
     "text": [
      "Top 100 words:\n",
      "('culture', 381)\n",
      "(u'employee', 235)\n",
      "('work', 206)\n",
      "(u'risk', 191)\n",
      "('company', 171)\n",
      "(u'customer', 171)\n",
      "('team', 135)\n",
      "('value', 129)\n",
      "('business', 129)\n",
      "('project', 128)\n",
      "('collaborative', 128)\n",
      "('growth', 125)\n",
      "('people', 124)\n",
      "('family', 112)\n",
      "('open', 110)\n",
      "('management', 106)\n",
      "('corporate', 103)\n",
      "('take', 99)\n",
      "('integrity', 98)\n",
      "('focused', 97)\n",
      "('oriented', 96)\n",
      "('new', 90)\n",
      "(u'service', 86)\n",
      "(u'result', 85)\n",
      "('goal', 81)\n",
      "('focus', 79)\n",
      "('client', 79)\n",
      "('driven', 78)\n",
      "('high', 77)\n",
      "('productivity', 75)\n",
      "(u'make', 75)\n",
      "('financial', 74)\n",
      "('time', 73)\n",
      "(u'decision', 73)\n",
      "('one', 71)\n",
      "(u'need', 66)\n",
      "('change', 65)\n",
      "('working', 65)\n",
      "('quality', 64)\n",
      "(u'term', 63)\n",
      "('firm', 63)\n",
      "('right', 62)\n",
      "('respect', 61)\n",
      "('top', 60)\n",
      "('professional', 60)\n",
      "('environment', 57)\n",
      "('entrepreneurial', 57)\n",
      "('lack', 56)\n",
      "('organization', 56)\n",
      "('accountability', 56)\n",
      "('innovative', 55)\n",
      "('thing', 55)\n",
      "('get', 55)\n",
      "(u'good', 54)\n",
      "('based', 54)\n",
      "('reporting', 54)\n",
      "('conservative', 53)\n",
      "('level', 52)\n",
      "('performance', 52)\n",
      "('teamwork', 52)\n",
      "('profitability', 51)\n",
      "('ethical', 51)\n",
      "('debt', 51)\n",
      "('cost', 50)\n",
      "('long', 50)\n",
      "('strong', 49)\n",
      "('trust', 48)\n",
      "('process', 47)\n",
      "(u'product', 47)\n",
      "('communication', 47)\n",
      "('hard', 47)\n",
      "('way', 46)\n",
      "('fun', 46)\n",
      "('always', 44)\n",
      "('positive', 43)\n",
      "(u'help', 43)\n",
      "('taking', 43)\n",
      "('innovation', 43)\n",
      "('engaged', 42)\n",
      "('friendly', 41)\n",
      "('making', 41)\n",
      "('best', 41)\n",
      "(u'market', 40)\n",
      "('investment', 40)\n",
      "('impact', 40)\n",
      "('collegial', 39)\n",
      "('leadership', 39)\n",
      "('better', 38)\n",
      "(u'profit', 38)\n",
      "('risky', 38)\n",
      "('everyone', 37)\n",
      "('success', 37)\n",
      "('effort', 36)\n",
      "('excellence', 36)\n",
      "(u'year', 36)\n",
      "('done', 36)\n",
      "(u'owner', 36)\n",
      "('due', 36)\n",
      "(u'opportunity', 36)\n",
      "('like', 36)\n"
     ]
    }
   ],
   "source": [
    "def joinlists(listname):\n",
    "    #function for joining list of lists (i.e. from x=([['a','b'],['c']]) to x=['a','b','c'])\n",
    "    #want only unique values for each document, so:\n",
    "    uniquelitems = [set(listitems) for listitems in listname]\n",
    "    newlist=list(itertools.chain.from_iterable(uniquelitems))\n",
    "    return newlist\n",
    "\n",
    "def word_count(toktext): \n",
    "    #function returns word frequences from an input of tokenized text\n",
    "    word_freq=dict([(word, toktext.count(word)) for word in set(toktext)])\n",
    "    return word_freq\n",
    "\n",
    "def top_words(toktext,n):\n",
    "    #function returns top n words in a tokenized text\n",
    "    wordfreq=word_count(toktext)\n",
    "    topwords=sorted(wordfreq.iteritems(),key=itemgetter(1), reverse=True)[:n]\n",
    "    return topwords\n",
    "\n",
    "tot_allwords=joinlists(tcorpus)\n",
    "\n",
    "print(\"Top 100 words:\")\n",
    "for ind_word in top_words(tot_allwords,100):\n",
    "    print ind_word"
   ]
  },
  {
   "cell_type": "code",
   "execution_count": 41,
   "metadata": {
    "collapsed": true
   },
   "outputs": [],
   "source": [
    "dictionary = corpora.Dictionary(tcorpus)\n",
    "dictionary.save('culturewords.dict') # store the dictionary, for future reference\n",
    "corpus = [dictionary.doc2bow(text) for text in tcorpus]\n",
    "corpora.BleiCorpus.serialize('culturewords.lda-c', corpus) # store to disk, for later use\n",
    "#corpus is now in bag-of-words format (number of occurrances of each word in the dictionary in each document)\n",
    "\n",
    "tfidf = models.TfidfModel(corpus)\n",
    "corpus_tfidf=tfidf[corpus]"
   ]
  },
  {
   "cell_type": "code",
   "execution_count": 42,
   "metadata": {
    "collapsed": false
   },
   "outputs": [
    {
     "name": "stdout",
     "output_type": "stream",
     "text": [
      "(1679, 909)\n"
     ]
    },
    {
     "data": {
      "text/plain": [
       "[<matplotlib.lines.Line2D at 0x12d4c1dd0>]"
      ]
     },
     "execution_count": 42,
     "metadata": {},
     "output_type": "execute_result"
    },
    {
     "data": {
      "image/png": "[encoded data removed]",
      "text/plain": [
       "<matplotlib.figure.Figure at 0x11b5230d0>"
      ]
     },
     "metadata": {},
     "output_type": "display_data"
    }
   ],
   "source": [
    "### CAN WE FIGURE OUT A NATURAL NUMBER OF CLUSTERS FROM THE DATA?\n",
    "### LETS DO PCA AND THEN DETERMINE HOW MANY PRINCIPAL COMPONENTS TO CHOOSE\n",
    "### VIA EXPLAINED VARIANCE MEASURES, CALCULATED FROM THE EIGENVALUES\n",
    "### (The explained variance tells us how much information (variance) can be attributed \n",
    "### to each of the principal components.)\n",
    "\n",
    "numpy_matrix = gensim.matutils.corpus2dense(corpus_tfidf, num_terms=len(dictionary))\n",
    "X = numpy_matrix.transpose() #each observation a row, each feature a column\n",
    "X_std = StandardScaler().fit_transform(X)\n",
    "print(X.shape) #401 features, 1567 observations\n",
    "\n",
    "mean_vec = np.mean(X, axis=0)\n",
    "cov_mat = (X - mean_vec).T.dot((X - mean_vec)) / (X.shape[0]-1)\n",
    "cov_mat = np.cov(X_std.T)\n",
    "\n",
    "eig_vals, eig_vecs = np.linalg.eig(cov_mat)\n",
    "\n",
    "tot = sum(eig_vals)\n",
    "var_exp = [(i / tot)*100 for i in sorted(eig_vals, reverse=True)]\n",
    "cum_var_exp = np.cumsum(var_exp)\n",
    "\n",
    "plt.plot(cum_var_exp)"
   ]
  },
  {
   "cell_type": "markdown",
   "metadata": {},
   "source": [
    "The plot of Explained variance is too smooth -- not able to carry out dimension reduction or come up with a reasonable value for number of clusters\n",
    "\n",
    "Reading more -- kmeans is a horrible clustering algorithm for categorical/ordinal data, which is basically what textual data is converted to. Lets try other methods for calculating number of clusters and their components."
   ]
  },
  {
   "cell_type": "markdown",
   "metadata": {},
   "source": [
    "# DBSCAN CLUSTERING"
   ]
  },
  {
   "cell_type": "markdown",
   "metadata": {},
   "source": [
    "PERHAPS DBSCAN (Density-Based Spatial Clustering of Applications with Noise) WOULD BE A BETTER CLUSTERING METHOD?\n",
    "\n",
    "Density-based clustering algorithms attempt to capture our intuition that a cluster is a region of the data space where there are lots of points, surrounded by a region where there are few points. \n",
    "\n",
    "DBSCAN does this by partitioning the input data points into three types:\n",
    "(1) Core points have a large number of other points within a given neighborhood. The parameter min_core_neighbors defines how many points counts as a \"large number\", while the radius parameter defines how large the neighborhoods are around each point. Specifically, a point y is in the neighborhood of point x if d(x,y)< radius, where d is a user-specified distance function.\n",
    "(2) Boundary points are within distance radius of a core point, but don't have sufficient neighbors of their own to be considered core.\n",
    "(3) Noise points comprise the remainder of the data. These points have too few neighbors to be considered core points, and are further than distance radius from all core points.\n"
   ]
  },
  {
   "cell_type": "code",
   "execution_count": 43,
   "metadata": {
    "collapsed": false
   },
   "outputs": [
    {
     "name": "stdout",
     "output_type": "stream",
     "text": [
      "Estimated number of clusters: 0\n"
     ]
    },
    {
     "ename": "ValueError",
     "evalue": "Number of labels is 1. Valid values are 2 to n_samples - 1 (inclusive)",
     "output_type": "error",
     "traceback": [
      "\u001b[0;31m---------------------------------------------------------------------------\u001b[0m",
      "\u001b[0;31mValueError\u001b[0m                                Traceback (most recent call last)",
      "\u001b[0;32m<ipython-input-43-c542cbf07882>\u001b[0m in \u001b[0;36m<module>\u001b[0;34m()\u001b[0m\n\u001b[1;32m      9\u001b[0m \u001b[0;34m\u001b[0m\u001b[0m\n\u001b[1;32m     10\u001b[0m \u001b[0;32mprint\u001b[0m\u001b[0;34m(\u001b[0m\u001b[0;34m'Estimated number of clusters: %d'\u001b[0m \u001b[0;34m%\u001b[0m \u001b[0mn_clusters_\u001b[0m\u001b[0;34m)\u001b[0m\u001b[0;34m\u001b[0m\u001b[0m\n\u001b[0;32m---> 11\u001b[0;31m \u001b[0;32mprint\u001b[0m\u001b[0;34m(\u001b[0m\u001b[0;34m\"Silhouette Coefficient: %0.3f\"\u001b[0m \u001b[0;34m%\u001b[0m \u001b[0mmetrics\u001b[0m\u001b[0;34m.\u001b[0m\u001b[0msilhouette_score\u001b[0m\u001b[0;34m(\u001b[0m\u001b[0mX_std\u001b[0m\u001b[0;34m,\u001b[0m \u001b[0mlabels\u001b[0m\u001b[0;34m)\u001b[0m\u001b[0;34m)\u001b[0m\u001b[0;34m\u001b[0m\u001b[0m\n\u001b[0m\u001b[1;32m     12\u001b[0m \u001b[0;34m\u001b[0m\u001b[0m\n\u001b[1;32m     13\u001b[0m \u001b[0;31m#Silhouette coefficient near 0, indicating overlapping clusters\u001b[0m\u001b[0;34m\u001b[0m\u001b[0;34m\u001b[0m\u001b[0m\n",
      "\u001b[0;32m/Users/kirtikamboj/anaconda/lib/python2.7/site-packages/sklearn/metrics/cluster/unsupervised.pyc\u001b[0m in \u001b[0;36msilhouette_score\u001b[0;34m(X, labels, metric, sample_size, random_state, **kwds)\u001b[0m\n\u001b[1;32m     84\u001b[0m     \u001b[0;32mif\u001b[0m \u001b[0;32mnot\u001b[0m \u001b[0;36m1\u001b[0m \u001b[0;34m<\u001b[0m \u001b[0mn_labels\u001b[0m \u001b[0;34m<\u001b[0m \u001b[0mn_samples\u001b[0m\u001b[0;34m:\u001b[0m\u001b[0;34m\u001b[0m\u001b[0m\n\u001b[1;32m     85\u001b[0m         raise ValueError(\"Number of labels is %d. Valid values are 2 \"\n\u001b[0;32m---> 86\u001b[0;31m                          \"to n_samples - 1 (inclusive)\" % n_labels)\n\u001b[0m\u001b[1;32m     87\u001b[0m \u001b[0;34m\u001b[0m\u001b[0m\n\u001b[1;32m     88\u001b[0m     \u001b[0;32mif\u001b[0m \u001b[0msample_size\u001b[0m \u001b[0;32mis\u001b[0m \u001b[0;32mnot\u001b[0m \u001b[0mNone\u001b[0m\u001b[0;34m:\u001b[0m\u001b[0;34m\u001b[0m\u001b[0m\n",
      "\u001b[0;31mValueError\u001b[0m: Number of labels is 1. Valid values are 2 to n_samples - 1 (inclusive)"
     ]
    }
   ],
   "source": [
    "# Compute DBSCAN\n",
    "db = DBSCAN(min_samples=15).fit(X_std)\n",
    "core_samples_mask = np.zeros_like(db.labels_, dtype=bool)\n",
    "core_samples_mask[db.core_sample_indices_] = True\n",
    "labels = db.labels_\n",
    "\n",
    "# Number of clusters in labels, ignoring noise if present.\n",
    "n_clusters_ = len(set(labels)) - (1 if -1 in labels else 0)\n",
    "\n",
    "print('Estimated number of clusters: %d' % n_clusters_)\n",
    "print(\"Silhouette Coefficient: %0.3f\" % metrics.silhouette_score(X_std, labels))\n",
    "\n",
    "#Silhouette coefficient near 0, indicating overlapping clusters\n",
    "\n",
    "# Black removed and is used for noise instead.\n",
    "unique_labels = set(labels)\n",
    "colors = plt.cm.Spectral(np.linspace(0, 1, len(unique_labels)))\n",
    "for k, col in zip(unique_labels, colors):\n",
    "    if k == -1:\n",
    "        # Black used for noise.\n",
    "        col = 'k'\n",
    "\n",
    "    class_member_mask = (labels == k)\n",
    "\n",
    "    xy = X[class_member_mask & core_samples_mask]\n",
    "    plt.plot(xy[:, 0], xy[:, 1], 'o', markerfacecolor=col,\n",
    "             markeredgecolor='k', markersize=14)\n",
    "\n",
    "    xy = X[class_member_mask & ~core_samples_mask]\n",
    "    plt.plot(xy[:, 0], xy[:, 1], 'o', markerfacecolor=col,\n",
    "             markeredgecolor='k', markersize=6)\n",
    "\n",
    "plt.title('Estimated number of clusters: %d' % n_clusters_)\n",
    "plt.show()"
   ]
  },
  {
   "cell_type": "markdown",
   "metadata": {},
   "source": [
    "Too much noise, not enough signal, being captured via this clustering method.\n",
    "When clustering just Q1, get 3 estimated number of clusters. When clustering all text, 0."
   ]
  },
  {
   "cell_type": "markdown",
   "metadata": {},
   "source": [
    "# TOPIC MODELING"
   ]
  },
  {
   "cell_type": "code",
   "execution_count": 44,
   "metadata": {
    "collapsed": false
   },
   "outputs": [
    {
     "data": {
      "text/plain": [
       "[(0,\n",
       "  u'0.020*collaborative + 0.009*culture + 0.009*innovative + 0.009*performance + 0.008*driven + 0.008*growth + 0.008*open + 0.007*term + 0.007*company + 0.007*high'),\n",
       " (1,\n",
       "  u'0.012*culture + 0.011*customer + 0.010*risk + 0.009*employee + 0.007*people + 0.007*conservative + 0.007*value + 0.007*corporate + 0.006*good + 0.006*work'),\n",
       " (2,\n",
       "  u'0.023*family + 0.015*team + 0.013*integrity + 0.011*oriented + 0.011*friendly + 0.011*work + 0.010*entrepreneurial + 0.009*professional + 0.008*employee + 0.008*teamwork')]"
      ]
     },
     "execution_count": 44,
     "metadata": {},
     "output_type": "execute_result"
    }
   ],
   "source": [
    "##LDA assumes that a company can belong to more than one cluster (more than one type of culture).\n",
    "##The results of the DBScan indicated there was overlap, so let us try this, first, with three clusters.\n",
    "\n",
    "num_topics=3\n",
    "\n",
    "ldamodel = models.ldamodel.LdaModel(corpus=corpus_tfidf, id2word=dictionary, num_topics=num_topics, passes=20, iterations=100000)\n",
    "ldamodel.print_topics()"
   ]
  },
  {
   "cell_type": "markdown",
   "metadata": {},
   "source": [
    "These don't seem very valid. Next, I tried LDA with seven clusters/topics, as in the paper/ppt."
   ]
  },
  {
   "cell_type": "code",
   "execution_count": 45,
   "metadata": {
    "collapsed": false
   },
   "outputs": [
    {
     "data": {
      "text/plain": [
       "[(0,\n",
       "  u'0.019*integrity + 0.012*traditional + 0.011*honesty + 0.011*quality + 0.009*innovation + 0.009*best + 0.009*trust + 0.009*high + 0.009*respect + 0.007*culture'),\n",
       " (1,\n",
       "  u'0.016*entrepreneurial + 0.010*important + 0.009*changing + 0.009*informal + 0.008*global + 0.007*mission + 0.007*top + 0.006*focused + 0.006*growth + 0.006*individual'),\n",
       " (2,\n",
       "  u'0.017*collegial + 0.012*culture + 0.012*caring + 0.011*service + 0.010*engaged + 0.010*customer + 0.009*business + 0.009*growth + 0.008*competitive + 0.008*client'),\n",
       " (3,\n",
       "  u'0.024*family + 0.010*culture + 0.010*good + 0.010*company + 0.010*conservative + 0.009*value + 0.009*employee + 0.008*relaxed + 0.008*people + 0.007*strong'),\n",
       " (4,\n",
       "  u'0.012*work + 0.011*oriented + 0.011*professional + 0.010*employee + 0.009*customer + 0.009*member + 0.008*management + 0.008*family + 0.008*casual + 0.007*sense'),\n",
       " (5,\n",
       "  u'0.010*work + 0.010*culture + 0.010*risk + 0.010*time + 0.009*take + 0.009*employee + 0.009*hard + 0.008*corporate + 0.008*excellence + 0.007*customer'),\n",
       " (6,\n",
       "  u'0.039*collaborative + 0.017*open + 0.015*innovative + 0.015*driven + 0.013*team + 0.013*performance + 0.011*friendly + 0.011*focused + 0.011*inclusive + 0.010*transparent')]"
      ]
     },
     "execution_count": 45,
     "metadata": {},
     "output_type": "execute_result"
    }
   ],
   "source": [
    "num_topics=7\n",
    "\n",
    "ldamodel = models.ldamodel.LdaModel(corpus=corpus_tfidf, id2word=dictionary, num_topics=num_topics, passes=20, iterations=100000)\n",
    "ldamodel.print_topics()\n"
   ]
  },
  {
   "cell_type": "markdown",
   "metadata": {},
   "source": [
    "These don't shed much light, either; very difficult to tell at a glance what differentiates the different clusters.\n",
    "\n",
    "It also brings up the question -- does it really make sense to use LDA in this model? Do we want to give each company's culture one label, or allow it to have multiple labels? Nevertheless, lets keep going on this route."
   ]
  },
  {
   "cell_type": "code",
   "execution_count": 46,
   "metadata": {
    "collapsed": false
   },
   "outputs": [
    {
     "data": {
      "text/plain": [
       "[(0,\n",
       "  u'0.267*\"collaborative\" + 0.250*\"culture\" + 0.210*\"family\" + 0.204*\"employee\" + 0.182*\"customer\" + 0.180*\"oriented\" + 0.170*\"team\" + 0.167*\"work\" + 0.142*\"risk\" + 0.139*\"company\"'),\n",
       " (1,\n",
       "  u'0.920*\"collaborative\" + -0.128*\"family\" + 0.084*\"oriented\" + -0.083*\"culture\" + -0.071*\"work\" + 0.068*\"conservative\" + -0.061*\"company\" + 0.059*\"open\" + -0.052*\"corporate\" + -0.052*\"business\"'),\n",
       " (2,\n",
       "  u'-0.891*\"family\" + -0.261*\"oriented\" + 0.084*\"integrity\" + 0.080*\"culture\" + -0.077*\"friendly\" + 0.076*\"employee\" + -0.067*\"owned\" + 0.067*\"risk\" + 0.066*\"company\" + -0.056*\"team\"'),\n",
       " (3,\n",
       "  u'-0.899*\"entrepreneurial\" + -0.198*\"innovative\" + -0.111*\"oriented\" + -0.099*\"team\" + 0.096*\"employee\" + 0.088*\"work\" + 0.086*\"collaborative\" + 0.079*\"customer\" + -0.068*\"driven\" + -0.063*\"see\"'),\n",
       " (4,\n",
       "  u'0.629*\"open\" + -0.304*\"customer\" + 0.275*\"friendly\" + -0.254*\"oriented\" + -0.221*\"service\" + -0.164*\"integrity\" + -0.145*\"focused\" + -0.145*\"driven\" + 0.139*\"transparent\" + 0.119*\"collegial\"'),\n",
       " (5,\n",
       "  u'0.413*\"open\" + 0.367*\"oriented\" + 0.322*\"team\" + -0.203*\"family\" + -0.184*\"culture\" + 0.179*\"customer\" + 0.161*\"friendly\" + -0.159*\"collaborative\" + 0.153*\"focused\" + -0.143*\"risk\"'),\n",
       " (6,\n",
       "  u'0.575*\"integrity\" + -0.391*\"oriented\" + -0.285*\"team\" + 0.203*\"teamwork\" + 0.188*\"family\" + 0.160*\"entrepreneurial\" + 0.157*\"excellence\" + 0.136*\"respect\" + 0.125*\"honesty\" + 0.115*\"quality\"')]"
      ]
     },
     "execution_count": 46,
     "metadata": {},
     "output_type": "execute_result"
    }
   ],
   "source": [
    "##TOPIC MODELING VIA LSI.\n",
    "\n",
    "lsimodel = models.lsimodel.LsiModel(corpus=corpus_tfidf, id2word=dictionary, num_topics=num_topics)\n",
    "corpus_lsi = lsimodel[corpus_tfidf]\n",
    "lsimodel.print_topics(num_topics)"
   ]
  },
  {
   "cell_type": "markdown",
   "metadata": {},
   "source": [
    "The negatives actually tell us a bit more than expected, since it shows how much that particular type of culture varies from the baseline/norm values for the particular value being measured (collaborativeness, family, etc)"
   ]
  },
  {
   "cell_type": "code",
   "execution_count": 47,
   "metadata": {
    "collapsed": false
   },
   "outputs": [
    {
     "data": {
      "text/plain": [
       "[(0,\n",
       "  u'0.267*\"collaborative\" + 0.250*\"culture\" + 0.210*\"family\" + 0.204*\"employee\" + 0.182*\"customer\" + 0.180*\"oriented\" + 0.170*\"team\" + 0.167*\"work\" + 0.141*\"risk\" + 0.139*\"company\"'),\n",
       " (1,\n",
       "  u'-0.921*\"collaborative\" + 0.128*\"family\" + -0.084*\"oriented\" + 0.083*\"culture\" + 0.073*\"work\" + -0.067*\"conservative\" + 0.061*\"company\" + -0.059*\"open\" + 0.052*\"corporate\" + 0.050*\"integrity\"'),\n",
       " (2,\n",
       "  u'0.890*\"family\" + 0.262*\"oriented\" + -0.084*\"integrity\" + -0.081*\"culture\" + 0.079*\"friendly\" + -0.074*\"employee\" + 0.067*\"owned\" + -0.065*\"risk\" + -0.064*\"company\" + 0.057*\"team\"')]"
      ]
     },
     "execution_count": 47,
     "metadata": {},
     "output_type": "execute_result"
    }
   ],
   "source": [
    "num_topics=3\n",
    "\n",
    "lsimodel = models.lsimodel.LsiModel(corpus=corpus_tfidf, id2word=dictionary, num_topics=num_topics)\n",
    "corpus_lsi = lsimodel[corpus_tfidf]\n",
    "lsimodel.print_topics(num_topics)"
   ]
  },
  {
   "cell_type": "code",
   "execution_count": 50,
   "metadata": {
    "collapsed": false
   },
   "outputs": [
    {
     "data": {
      "text/plain": [
       "[u'topic 0: 0.010*improvement + 0.008*never + 0.007*mind + 0.006*fit + 0.006*deal + 0.006*bottom + 0.006*know + 0.006*expertise + 0.006*thing + 0.006*respectful + 0.005*professional + 0.005*back + 0.005*involved + 0.005*customer-centric + 0.005*generate + 0.005*number + 0.005*willingness + 0.005*simple + 0.005*hr + 0.004*significant',\n",
       " u'topic 1: 0.009*strategy + 0.007*interaction + 0.006*corporate + 0.006*cohesive + 0.006*balance + 0.006*mutual + 0.005*activity + 0.005*needed + 0.005*drive + 0.005*left + 0.005*real + 0.005*entrepreneurial + 0.005*rate + 0.005*accountable + 0.005*result + 0.005*think + 0.004*authority + 0.004*expense + 0.004*keep + 0.004*timely',\n",
       " u'topic 2: 0.007*committed + 0.007*timely + 0.006*corp + 0.006*shared + 0.006*surprise + 0.005*hierarchy + 0.005*experienced + 0.005*program + 0.005*service + 0.005*trusting + 0.005*casual + 0.005*employee + 0.005*source + 0.005*effect + 0.005*freedom + 0.004*focused + 0.004*rd + 0.004*belief + 0.004*outside + 0.004*delay',\n",
       " u'topic 3: 0.007*capital + 0.007*asset + 0.006*sale + 0.005*last + 0.005*attitude + 0.005*difficult + 0.005*productive + 0.005*may + 0.005*casual + 0.005*human + 0.005*taken + 0.005*company + 0.005*disjointed + 0.005*marketing + 0.004*budget + 0.004*change + 0.004*strategic + 0.004*order + 0.004*department + 0.004*keeping',\n",
       " u'topic 4: 0.008*history + 0.008*investment + 0.007*innovation + 0.007*interaction + 0.006*one + 0.006*political + 0.006*self + 0.005*follow + 0.005*entitlement + 0.005*walk + 0.005*program + 0.005*dignity + 0.005*due + 0.005*transparent + 0.005*without + 0.005*desire + 0.005*client + 0.004*ethical + 0.004*president + 0.004*enjoy',\n",
       " u'topic 5: 0.006*decentralized + 0.006*laid + 0.006*beginning + 0.006*excited + 0.005*fund + 0.005*perception + 0.005*non + 0.005*different + 0.005*thinking + 0.005*collaborative + 0.005*legal + 0.005*engineering + 0.005*sure + 0.005*dignity + 0.005*competitive + 0.004*solid + 0.004*energy + 0.004*hr + 0.004*autocratic + 0.004*willingness',\n",
       " u'topic 6: 0.009*ethical + 0.007*dysfunctional + 0.006*break + 0.006*competition + 0.005*greater + 0.005*engineering + 0.005*driving + 0.005*analysis + 0.005*responsive + 0.005*show + 0.005*like + 0.005*average + 0.005*option + 0.005*empowering + 0.005*formal + 0.005*engaged + 0.005*capacity + 0.004*teamwork + 0.004*integrity + 0.004*motivation',\n",
       " u'topic 7: 0.009*casual + 0.007*delay + 0.006*department + 0.006*industry + 0.006*short-term + 0.005*break + 0.005*faster + 0.005*improving + 0.005*financials + 0.005*bank + 0.005*hierarchical + 0.005*quo + 0.005*losing + 0.005*left + 0.005*within + 0.004*behaviour + 0.004*every + 0.004*ineffective + 0.004*status + 0.004*people',\n",
       " u'topic 8: 0.008*creativity + 0.008*moving + 0.007*infrastructure + 0.007*rather + 0.006*grow + 0.006*government + 0.006*averse + 0.005*reason + 0.005*non + 0.005*consequence + 0.005*strategy + 0.005*involved + 0.005*revenue + 0.005*question + 0.005*delivery + 0.005*outcome + 0.004*enables + 0.004*case + 0.004*getting + 0.004*managing',\n",
       " u'topic 9: 0.007*ownership + 0.007*carry + 0.007*dignity + 0.007*corp + 0.007*real + 0.006*data + 0.006*need + 0.006*internally + 0.006*thus + 0.006*order + 0.005*corporation + 0.005*conduct + 0.005*either + 0.005*cohesive + 0.005*formal + 0.004*performance + 0.004*recognition + 0.004*serving + 0.004*integrity + 0.004*disfunctional']"
      ]
     },
     "execution_count": 50,
     "metadata": {},
     "output_type": "execute_result"
    }
   ],
   "source": [
    "#HDP model, which uncovers its own number of clusters.\n",
    "#in this model, it uncovered too many distinct topics to count.\n",
    "#however, none seem to be very valid topics.\n",
    "#only showing top 10\n",
    "\n",
    "hdpmodel = models.hdpmodel.HdpModel(corpus=corpus_tfidf, id2word=dictionary)\n",
    "corpus_hp = hdpmodel[corpus_tfidf]\n",
    "hdpmodel.print_topics(10)"
   ]
  },
  {
   "cell_type": "code",
   "execution_count": 51,
   "metadata": {
    "collapsed": false
   },
   "outputs": [
    {
     "name": "stdout",
     "output_type": "stream",
     "text": [
      "CPU times: user 7.61 s, sys: 84.4 ms, total: 7.69 s\n",
      "Wall time: 1.95 s\n",
      "871\n",
      "Top 10 words:\n",
      "('work', 103)\n",
      "('family', 81)\n",
      "(u'open', 76)\n",
      "('people', 71)\n",
      "('team', 70)\n",
      "('integrity', 53)\n",
      "('value', 50)\n",
      "('professional', 43)\n",
      "(u'employee', 40)\n",
      "('hard', 39)\n",
      "58\n",
      "Top 10 words:\n",
      "('collaborative', 58)\n",
      "('oriented', 10)\n",
      "('team', 7)\n",
      "('employee', 5)\n",
      "('culture', 5)\n",
      "('conservative', 5)\n",
      "('driven', 4)\n",
      "('mission', 3)\n",
      "('respectful', 3)\n",
      "('supportive', 3)\n",
      "750\n",
      "Top 10 words:\n",
      "('culture', 339)\n",
      "(u'employee', 190)\n",
      "(u'risk', 179)\n",
      "(u'customer', 155)\n",
      "('company', 150)\n",
      "('project', 112)\n",
      "('work', 102)\n",
      "('business', 101)\n",
      "('corporate', 98)\n",
      "('growth', 91)\n"
     ]
    }
   ],
   "source": [
    "###KMEANS CLUSTERING, JUST FOR THE HECK OF IT\n",
    "\n",
    "num_clusters = 3\n",
    "\n",
    "numpy_matrix = gensim.matutils.corpus2dense(corpus_tfidf, num_terms=len(dictionary))\n",
    "X = numpy_matrix.transpose() #each observation a row, each feature a column\n",
    "\n",
    "km = KMeans(n_clusters=num_clusters)\n",
    "\n",
    "%time km.fit(X)\n",
    "\n",
    "clusters = km.labels_.tolist()\n",
    "dfc = { 'cluster_no' : pd.Series(clusters),\n",
    "        'culture_text': pd.Series(tcorpus)}\n",
    "dfc = pd.DataFrame(dfc)\n",
    "cluster_one = dfc.loc[dfc['cluster_no'] == 0]['culture_text']\n",
    "print(len(cluster_one))\n",
    "tot_allwords=joinlists(cluster_one)\n",
    "print(\"Top 10 words:\")\n",
    "for ind_word in top_words(tot_allwords,10):\n",
    "    print ind_word\n",
    "\n",
    "cluster_two = dfc.loc[dfc['cluster_no'] == 1]['culture_text']\n",
    "print(len(cluster_two))\n",
    "tot_allwords=joinlists(cluster_two)\n",
    "print(\"Top 10 words:\")\n",
    "for ind_word in top_words(tot_allwords,10):\n",
    "    print ind_word\n",
    "\n",
    "cluster_three = dfc.loc[dfc['cluster_no'] == 2]['culture_text']\n",
    "print(len(cluster_three))\n",
    "tot_allwords=joinlists(cluster_three)\n",
    "print(\"Top 10 words:\")\n",
    "for ind_word in top_words(tot_allwords,10):\n",
    "    print ind_word\n"
   ]
  },
  {
   "cell_type": "markdown",
   "metadata": {},
   "source": [
    "This gives an indication of why the clusters are so crappy. Essentially, one cluster was formed solely on the basis that people put \"collaborative\" on their surveys (while excluding some other words such as, presumably, 'culture', 'employee', 'customer', 'company', 'project', 'work', etc).\n",
    "\n",
    "Obviously this is not an ideal clustering method."
   ]
  },
  {
   "cell_type": "code",
   "execution_count": 52,
   "metadata": {
    "collapsed": false
   },
   "outputs": [
    {
     "name": "stdout",
     "output_type": "stream",
     "text": [
      "CPU times: user 9.38 s, sys: 140 ms, total: 9.52 s\n",
      "Wall time: 2.42 s\n",
      "262\n",
      "Top 10 words:\n",
      "(u'risk', 145)\n",
      "('take', 73)\n",
      "('project', 72)\n",
      "('people', 62)\n",
      "('culture', 59)\n",
      "('company', 45)\n",
      "(u'term', 42)\n",
      "('long', 34)\n",
      "('management', 32)\n",
      "('growth', 32)\n",
      "401\n",
      "Top 10 words:\n",
      "('culture', 241)\n",
      "('work', 139)\n",
      "(u'employee', 128)\n",
      "('corporate', 77)\n",
      "(u'company', 76)\n",
      "('business', 69)\n",
      "('one', 49)\n",
      "('growth', 49)\n",
      "('goal', 47)\n",
      "('value', 46)\n",
      "58\n",
      "Top 10 words:\n",
      "('family', 58)\n",
      "('oriented', 14)\n",
      "('work', 7)\n",
      "('friendly', 6)\n",
      "('owned', 6)\n",
      "('atmosphere', 5)\n",
      "('team', 5)\n",
      "('environment', 4)\n",
      "('community', 4)\n",
      "('like', 4)\n",
      "52\n",
      "Top 10 words:\n",
      "('collaborative', 52)\n",
      "('oriented', 8)\n",
      "('team', 6)\n",
      "('culture', 4)\n",
      "('conservative', 4)\n",
      "('driven', 4)\n",
      "('supportive', 3)\n",
      "('mission', 3)\n",
      "('fun', 3)\n",
      "('ethical', 2)\n",
      "78\n",
      "Top 10 words:\n",
      "('integrity', 76)\n",
      "('respect', 20)\n",
      "('culture', 20)\n",
      "('employee', 14)\n",
      "('accountability', 12)\n",
      "('teamwork', 12)\n",
      "('high', 10)\n",
      "('honesty', 9)\n",
      "('work', 9)\n",
      "(u'value', 9)\n",
      "162\n",
      "Top 10 words:\n",
      "(u'customer', 86)\n",
      "('oriented', 46)\n",
      "(u'service', 41)\n",
      "('professional', 41)\n",
      "('focused', 34)\n",
      "(u'employee', 32)\n",
      "(u'result', 30)\n",
      "('culture', 21)\n",
      "('team', 20)\n",
      "('quality', 20)\n",
      "666\n",
      "Top 10 words:\n",
      "('open', 55)\n",
      "('team', 43)\n",
      "(u'value', 37)\n",
      "('innovative', 32)\n",
      "('culture', 32)\n",
      "('entrepreneurial', 31)\n",
      "('company', 30)\n",
      "('new', 29)\n",
      "('employee', 29)\n",
      "('management', 27)\n"
     ]
    }
   ],
   "source": [
    "num_clusters = 7\n",
    "numpy_matrix = gensim.matutils.corpus2dense(corpus_tfidf, num_terms=len(dictionary))\n",
    "X = numpy_matrix.transpose() #each observation a row, each feature a column\n",
    "\n",
    "km = KMeans(n_clusters=num_clusters)\n",
    "\n",
    "%time km.fit(X)\n",
    "\n",
    "clusters = km.labels_.tolist()\n",
    "dfc = { 'cluster_no' : pd.Series(clusters),\n",
    "        'culture_text': pd.Series(tcorpus)}\n",
    "dfc = pd.DataFrame(dfc)\n",
    "cluster_one = dfc.loc[dfc['cluster_no'] == 0]['culture_text']\n",
    "print(len(cluster_one))\n",
    "tot_allwords=joinlists(cluster_one)\n",
    "print(\"Top 10 words:\")\n",
    "for ind_word in top_words(tot_allwords,10):\n",
    "    print ind_word\n",
    "\n",
    "cluster_two = dfc.loc[dfc['cluster_no'] == 1]['culture_text']\n",
    "print(len(cluster_two))\n",
    "tot_allwords=joinlists(cluster_two)\n",
    "print(\"Top 10 words:\")\n",
    "for ind_word in top_words(tot_allwords,10):\n",
    "    print ind_word\n",
    "\n",
    "cluster_three = dfc.loc[dfc['cluster_no'] == 2]['culture_text']\n",
    "print(len(cluster_three))\n",
    "tot_allwords=joinlists(cluster_three)\n",
    "print(\"Top 10 words:\")\n",
    "for ind_word in top_words(tot_allwords,10):\n",
    "    print ind_word\n",
    "\n",
    "cluster_four = dfc.loc[dfc['cluster_no'] == 3]['culture_text']\n",
    "print(len(cluster_four))\n",
    "tot_allwords=joinlists(cluster_four)\n",
    "print(\"Top 10 words:\")\n",
    "for ind_word in top_words(tot_allwords,10):\n",
    "    print ind_word\n",
    "\n",
    "cluster_five = dfc.loc[dfc['cluster_no'] == 4]['culture_text']\n",
    "print(len(cluster_five))\n",
    "tot_allwords=joinlists(cluster_five)\n",
    "print(\"Top 10 words:\")\n",
    "for ind_word in top_words(tot_allwords,10):\n",
    "    print ind_word\n",
    "\n",
    "cluster_six = dfc.loc[dfc['cluster_no'] == 5]['culture_text']\n",
    "print(len(cluster_six))\n",
    "tot_allwords=joinlists(cluster_six)\n",
    "print(\"Top 10 words:\")\n",
    "for ind_word in top_words(tot_allwords,10):\n",
    "    print ind_word\n",
    "\n",
    "cluster_seven = dfc.loc[dfc['cluster_no'] == 6]['culture_text']\n",
    "print(len(cluster_seven))\n",
    "tot_allwords=joinlists(cluster_seven)\n",
    "print(\"Top 10 words:\")\n",
    "for ind_word in top_words(tot_allwords,10):\n",
    "    print ind_word"
   ]
  },
  {
   "cell_type": "code",
   "execution_count": 217,
   "metadata": {
    "collapsed": false
   },
   "outputs": [],
   "source": [
    "## As above shows, we're running into the problem of synonyms\n",
    "## collaborative & supportive & team are essentially the same\n",
    "## yet there isn't enough data for the model to pick up on that\n",
    "\n",
    "## Perhaps hierarchical clustering algorithms would work better?"
   ]
  },
  {
   "cell_type": "markdown",
   "metadata": {},
   "source": [
    "# Hierarchical clustering"
   ]
  },
  {
   "cell_type": "code",
   "execution_count": 53,
   "metadata": {
    "collapsed": false
   },
   "outputs": [
    {
     "name": "stdout",
     "output_type": "stream",
     "text": [
      "(1679, 909)\n"
     ]
    },
    {
     "data": {
      "image/png": "[encoded data removed]",
      "text/plain": [
       "<matplotlib.figure.Figure at 0x11c109e50>"
      ]
     },
     "metadata": {},
     "output_type": "display_data"
    },
    {
     "name": "stdout",
     "output_type": "stream",
     "text": [
      "0.0859422022491\n",
      "0.539807183178\n"
     ]
    }
   ],
   "source": [
    "from scipy.spatial.distance import pdist, squareform\n",
    "from scipy.cluster.hierarchy import linkage, dendrogram, fcluster, cophenet\n",
    "\n",
    "print(X.shape)\n",
    "Z = linkage(X,'ward')\n",
    "Zcos = linkage(X,metric='cosine',method='complete')\n",
    "labels = fcluster(Zcos, .1, criterion=\"distance\")\n",
    "plt.scatter(X[:, 0], X[:, 1], c=labels.astype(np.float)) \n",
    "plt.show()\n",
    "\n",
    "c, coph_dists = cophenet(Z,pdist(X))\n",
    "print(c)\n",
    "c, coph_dists = cophenet(Zcos,pdist(X))\n",
    "print(c) "
   ]
  },
  {
   "cell_type": "markdown",
   "metadata": {},
   "source": [
    "The Cophenetic Correlation Coefficient compares (correlates) the actual pairwise distances of all our samples to those implied by the hierarchical clustering. The closer the value is to 1, the better the clustering preserves the original distances. We will go with the cos distance, since that is more standard for text, and also closer to one. However, as this number shows, there's a significant account of variation left unaccounted for."
   ]
  },
  {
   "cell_type": "code",
   "execution_count": 54,
   "metadata": {
    "collapsed": false
   },
   "outputs": [
    {
     "data": {
      "image/png": "[encoded data removed]",
      "text/plain": [
       "<matplotlib.figure.Figure at 0x11c0add10>"
      ]
     },
     "metadata": {},
     "output_type": "display_data"
    }
   ],
   "source": [
    "plt.figure(figsize=(25, 10))\n",
    "plt.title('Hierarchical Clustering Dendrogram')\n",
    "plt.xlabel('sample index')\n",
    "plt.ylabel('distance')\n",
    "dendrogram(\n",
    "    Zcos,\n",
    "    truncate_mode = 'lastp',\n",
    "    p=400,\n",
    "    leaf_rotation=90.,  # rotates the x axis labels\n",
    "    leaf_font_size=8.,  # font size for the x axis labels\n",
    ")\n",
    "plt.show()"
   ]
  },
  {
   "cell_type": "markdown",
   "metadata": {
    "collapsed": true
   },
   "source": [
    "Takeaway: There are too many clusters, and no principled way to decrease that number. Perhaps if we include other non-textual variables?"
   ]
  },
  {
   "cell_type": "code",
   "execution_count": null,
   "metadata": {
    "collapsed": true
   },
   "outputs": [],
   "source": []
  }
 ],
 "metadata": {
  "kernelspec": {
   "display_name": "Python 2",
   "language": "python",
   "name": "python2"
  },
  "language_info": {
   "codemirror_mode": {
    "name": "ipython",
    "version": 2
   },
   "file_extension": ".py",
   "mimetype": "text/x-python",
   "name": "python",
   "nbconvert_exporter": "python",
   "pygments_lexer": "ipython2",
   "version": "2.7.11"
  }
 },
 "nbformat": 4,
 "nbformat_minor": 0
}
