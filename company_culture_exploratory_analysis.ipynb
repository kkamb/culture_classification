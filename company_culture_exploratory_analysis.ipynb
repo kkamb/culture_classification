{
 "cells": [
  {
   "cell_type": "code",
   "execution_count": 2,
   "metadata": {
    "collapsed": false
   },
   "outputs": [],
   "source": [
    "%matplotlib inline\n",
    "\n",
    "import pandas as pd\n",
    "import numpy as np\n",
    "import re, nltk, operator, itertools, gensim, math\n",
    "from collections import defaultdict\n",
    "from nltk.stem import WordNetLemmatizer\n",
    "from nltk.corpus import stopwords\n",
    "from operator import itemgetter\n",
    "from gensim import corpora, models\n",
    "\n",
    "from sklearn.feature_extraction.text import TfidfVectorizer\n",
    "from sklearn.metrics.pairwise import cosine_similarity\n",
    "from sklearn.cluster import KMeans, DBSCAN\n",
    "from sklearn import metrics\n",
    "from sklearn.externals import joblib\n",
    "from sklearn.preprocessing import StandardScaler\n",
    "\n",
    "import matplotlib\n",
    "from matplotlib import pyplot as plt\n",
    "matplotlib.style.use('ggplot')"
   ]
  },
  {
   "cell_type": "code",
   "execution_count": 3,
   "metadata": {
    "collapsed": false
   },
   "outputs": [
    {
     "name": "stdout",
     "output_type": "stream",
     "text": [
      "The first ten results:\n",
      "[['integrity', 'professionalism'], ['want', u'customer', u'need', u'commitment', 'innovative', 'top', 'quality', u'product', u'service', 'competitive'], ['chaos', 'since', 'fast', 'change', 'process', 'corporate', 'culture'], ['success', 'team', 'effort'], ['dynamic', 'startup', 'culture', 'little', 'hierarchy'], ['diversity', 'excellence'], ['positive', u'attitude'], ['open', 'collaborative', 'professional', 'cooperative', 'sharing', 'direction', 'given'], [], ['family', 'oriented', 'culture', u'need', 'done', 'deliver', 'customer', 'service', 'right']]\n",
      "1567\n"
     ]
    }
   ],
   "source": [
    "df = pd.read_csv('corporate_culture_trunc.csv') #reads csv into dataframe\n",
    "df = df.dropna(subset=['Q1']) #drop row if no description (NaN in Q1)\n",
    "culture_text=df['Q1'] #takes only the first column\n",
    "\n",
    "\n",
    "###BELOW COMMANDS TOKENIZE TEXT#########\n",
    "\n",
    "lmtzr = WordNetLemmatizer()\n",
    "estopwords = set(stopwords.words('english')) #gets rid of stopwords (a, an, the...)\n",
    "ostopwords = ['wa','ha']\n",
    "\n",
    "def removewords(docwords,nmin,nmax):\n",
    "    #removes words that only appear n times\n",
    "    all_tokens=sum(docwords,[])\n",
    "    tokens_n=set(word for word in set(all_tokens) if all_tokens.count(word)<=nmin or all_tokens.count(word)>=nmax)\n",
    "    docwords = [[word for word in docs if word not in tokens_n]\n",
    "                for docs in docwords]\n",
    "    return docwords\n",
    "\n",
    "def lemmat(corpus):\n",
    "    nmin = 4\n",
    "    nmax = len(corpus)/3\n",
    "    token_corpus = [[re.sub(r'[^\\w\\-\\s]','', word) for word in doc.lower().split()]\n",
    "          for doc in corpus]\n",
    "    token_corpus = [[lmtzr.lemmatize(w) for w in doc]\n",
    "                for doc in token_corpus]\n",
    "    token_corpus = [[w for w in doc if len(w)>1] #getting rid of words with only one letter\n",
    "            for doc in token_corpus]\n",
    "    token_corpus = [[w for w in doc if w not in estopwords] #getting rid of stopwords\n",
    "            for doc in token_corpus]\n",
    "    token_corpus = [[w for w in doc if w not in ostopwords] #getting rid of stopwords\n",
    "            for doc in token_corpus]\n",
    "    token_corpus = removewords(token_corpus,nmin,nmax)\n",
    "    return(token_corpus)\n",
    "\n",
    "tcorpus = lemmat(culture_text)\n",
    "print(\"The first ten results:\")\n",
    "print(tcorpus[0:10])\n",
    "\n",
    "tcorpus = [doc for doc in tcorpus if len(doc)>0] #get rid of observations with no values\n",
    "print(len(tcorpus))"
   ]
  },
  {
   "cell_type": "code",
   "execution_count": 4,
   "metadata": {
    "collapsed": false,
    "scrolled": true
   },
   "outputs": [
    {
     "name": "stdout",
     "output_type": "stream",
     "text": [
      "Top 100 words:\n",
      "('culture', 151)\n",
      "('collaborative', 124)\n",
      "(u'customer', 118)\n",
      "('family', 109)\n",
      "('open', 94)\n",
      "('oriented', 93)\n",
      "('work', 82)\n",
      "('focused', 81)\n",
      "('team', 79)\n",
      "(u'employee', 79)\n",
      "('integrity', 75)\n",
      "('driven', 72)\n",
      "('value', 71)\n",
      "(u'company', 62)\n",
      "(u'service', 62)\n",
      "('corporate', 57)\n",
      "('entrepreneurial', 56)\n",
      "('people', 56)\n",
      "('business', 55)\n",
      "('respect', 54)\n",
      "('professional', 51)\n",
      "('innovative', 49)\n",
      "('client', 45)\n",
      "('high', 44)\n",
      "('fun', 44)\n",
      "('teamwork', 41)\n",
      "('focus', 39)\n",
      "('friendly', 39)\n",
      "('collegial', 39)\n",
      "('management', 38)\n",
      "('top', 38)\n",
      "('ethical', 38)\n",
      "('accountability', 38)\n",
      "('change', 35)\n",
      "('environment', 34)\n",
      "('excellence', 34)\n",
      "(u'result', 34)\n",
      "('based', 33)\n",
      "('working', 31)\n",
      "('hard', 31)\n",
      "('supportive', 31)\n",
      "(u'good', 30)\n",
      "('one', 30)\n",
      "('quality', 30)\n",
      "('caring', 30)\n",
      "('organization', 30)\n",
      "('conservative', 29)\n",
      "('performance', 29)\n",
      "('communication', 28)\n",
      "(u'need', 28)\n",
      "('relaxed', 28)\n",
      "('respectful', 27)\n",
      "('trust', 27)\n",
      "('innovation', 26)\n",
      "('right', 25)\n",
      "('lack', 24)\n",
      "('thing', 24)\n",
      "('growth', 24)\n",
      "('strong', 23)\n",
      "('honest', 23)\n",
      "('first', 23)\n",
      "('honesty', 23)\n",
      "('best', 23)\n",
      "('engaged', 23)\n",
      "('leadership', 23)\n",
      "(u'product', 22)\n",
      "('time', 22)\n",
      "('risk', 21)\n",
      "(u'goal', 21)\n",
      "('mission', 21)\n",
      "('flexible', 21)\n",
      "('way', 20)\n",
      "('committed', 20)\n",
      "(u'responsibility', 19)\n",
      "('done', 19)\n",
      "('improvement', 19)\n",
      "('transparent', 19)\n",
      "('like', 19)\n",
      "('process', 18)\n",
      "('always', 18)\n",
      "('transition', 18)\n",
      "('community', 18)\n",
      "(u'firm', 18)\n",
      "('new', 18)\n",
      "(u'commitment', 18)\n",
      "('small', 17)\n",
      "('cost', 17)\n",
      "('highly', 17)\n",
      "('positive', 17)\n",
      "('care', 17)\n",
      "(u'owner', 17)\n",
      "('collaboration', 17)\n",
      "('balance', 17)\n",
      "('well', 17)\n",
      "('competitive', 17)\n",
      "(u'decision', 17)\n",
      "('fast', 17)\n",
      "('inclusive', 17)\n",
      "('level', 16)\n",
      "(u'year', 16)\n"
     ]
    }
   ],
   "source": [
    "def joinlists(listname):\n",
    "    #function for joining list of lists (i.e. from x=([['a','b'],['c']]) to x=['a','b','c'])\n",
    "    #want only unique values for each document, so:\n",
    "    uniquelitems = [set(listitems) for listitems in listname]\n",
    "    newlist=list(itertools.chain.from_iterable(uniquelitems))\n",
    "    return newlist\n",
    "\n",
    "def word_count(toktext): \n",
    "    #function returns word frequences from an input of tokenized text\n",
    "    word_freq=dict([(word, toktext.count(word)) for word in set(toktext)])\n",
    "    return word_freq\n",
    "\n",
    "def top_words(toktext,n):\n",
    "    #function returns top n words in a tokenized text\n",
    "    wordfreq=word_count(toktext)\n",
    "    topwords=sorted(wordfreq.iteritems(),key=itemgetter(1), reverse=True)[:n]\n",
    "    return topwords\n",
    "\n",
    "tot_allwords=joinlists(tcorpus)\n",
    "\n",
    "print(\"Top 100 words:\")\n",
    "for ind_word in top_words(tot_allwords,100):\n",
    "    print ind_word"
   ]
  },
  {
   "cell_type": "code",
   "execution_count": 5,
   "metadata": {
    "collapsed": true
   },
   "outputs": [],
   "source": [
    "dictionary = corpora.Dictionary(tcorpus)\n",
    "dictionary.save('culturewords.dict') # store the dictionary, for future reference\n",
    "corpus = [dictionary.doc2bow(text) for text in tcorpus]\n",
    "corpora.BleiCorpus.serialize('culturewords.lda-c', corpus) # store to disk, for later use\n",
    "#corpus is now in bag-of-words format (number of occurrances of each word in the dictionary in each document)\n",
    "\n",
    "tfidf = models.TfidfModel(corpus)\n",
    "corpus_tfidf=tfidf[corpus]"
   ]
  },
  {
   "cell_type": "code",
   "execution_count": 6,
   "metadata": {
    "collapsed": false
   },
   "outputs": [
    {
     "name": "stdout",
     "output_type": "stream",
     "text": [
      "(1567, 401)\n"
     ]
    },
    {
     "data": {
      "text/plain": [
       "[<matplotlib.lines.Line2D at 0x126a6c910>]"
      ]
     },
     "execution_count": 6,
     "metadata": {},
     "output_type": "execute_result"
    },
    {
     "data": {
      "image/png": "[encoded data removed]",
      "text/plain": [
       "<matplotlib.figure.Figure at 0x10c869310>"
      ]
     },
     "metadata": {},
     "output_type": "display_data"
    }
   ],
   "source": [
    "### CAN WE FIGURE OUT A NATURAL NUMBER OF CLUSTERS FROM THE DATA?\n",
    "### LETS DO PCA AND THEN DETERMINE HOW MANY PRINCIPAL COMPONENTS TO CHOOSE\n",
    "### VIA EXPLAINED VARIANCE MEASURES, CALCULATED FROM THE EIGENVALUES\n",
    "### (The explained variance tells us how much information (variance) can be attributed \n",
    "### to each of the principal components.)\n",
    "\n",
    "numpy_matrix = gensim.matutils.corpus2dense(corpus_tfidf, num_terms=len(dictionary))\n",
    "X = numpy_matrix.transpose() #each observation a row, each feature a column\n",
    "X_std = StandardScaler().fit_transform(X)\n",
    "print(X.shape) #401 features, 1567 observations\n",
    "\n",
    "mean_vec = np.mean(X, axis=0)\n",
    "cov_mat = (X - mean_vec).T.dot((X - mean_vec)) / (X.shape[0]-1)\n",
    "cov_mat = np.cov(X_std.T)\n",
    "\n",
    "eig_vals, eig_vecs = np.linalg.eig(cov_mat)\n",
    "\n",
    "tot = sum(eig_vals)\n",
    "var_exp = [(i / tot)*100 for i in sorted(eig_vals, reverse=True)]\n",
    "cum_var_exp = np.cumsum(var_exp)\n",
    "\n",
    "plt.plot(cum_var_exp)"
   ]
  },
  {
   "cell_type": "markdown",
   "metadata": {},
   "source": [
    "The plot of Explained variance is too smooth -- not able to carry out dimension reduction or come up with a reasonable value for number of clusters\n",
    "\n",
    "Reading more -- kmeans is a horrible clustering algorithm for categorical/ordinal data. Need to do some similarity calculations beforehand."
   ]
  },
  {
   "cell_type": "markdown",
   "metadata": {},
   "source": [
    "# DBSCAN CLUSTERING"
   ]
  },
  {
   "cell_type": "markdown",
   "metadata": {},
   "source": [
    "PERHAPS DBSCAN (Density-Based Spatial Clustering of Applications with Noise) WOULD BE A BETTER CLUSTERING METHOD?\n",
    "\n",
    "Density-based clustering algorithms attempt to capture our intuition that a cluster is a region of the data space where there are lots of points, surrounded by a region where there are few points. \n",
    "\n",
    "DBSCAN does this by partitioning the input data points into three types:\n",
    "(1) Core points have a large number of other points within a given neighborhood. The parameter min_core_neighbors defines how many points counts as a \"large number\", while the radius parameter defines how large the neighborhoods are around each point. Specifically, a point y is in the neighborhood of point x if d(x,y)< radius, where d is a user-specified distance function.\n",
    "(2) Boundary points are within distance radius of a core point, but don't have sufficient neighbors of their own to be considered core.\n",
    "(3) Noise points comprise the remainder of the data. These points have too few neighbors to be considered core points, and are further than distance radius from all core points.\n"
   ]
  },
  {
   "cell_type": "code",
   "execution_count": 8,
   "metadata": {
    "collapsed": false
   },
   "outputs": [
    {
     "name": "stdout",
     "output_type": "stream",
     "text": [
      "Estimated number of clusters: 3\n",
      "Silhouette Coefficient: -0.234\n"
     ]
    },
    {
     "data": {
      "image/png": "[encoded data removed]",
      "text/plain": [
       "<matplotlib.figure.Figure at 0x11abb2690>"
      ]
     },
     "metadata": {},
     "output_type": "display_data"
    }
   ],
   "source": [
    "# Compute DBSCAN\n",
    "db = DBSCAN(min_samples=15).fit(X_std)\n",
    "core_samples_mask = np.zeros_like(db.labels_, dtype=bool)\n",
    "core_samples_mask[db.core_sample_indices_] = True\n",
    "labels = db.labels_\n",
    "\n",
    "# Number of clusters in labels, ignoring noise if present.\n",
    "n_clusters_ = len(set(labels)) - (1 if -1 in labels else 0)\n",
    "\n",
    "print('Estimated number of clusters: %d' % n_clusters_)\n",
    "print(\"Silhouette Coefficient: %0.3f\" % metrics.silhouette_score(X_std, labels))\n",
    "\n",
    "#Silhouette coefficient near 0, indicating overlapping clusters\n",
    "\n",
    "# Black removed and is used for noise instead.\n",
    "unique_labels = set(labels)\n",
    "colors = plt.cm.Spectral(np.linspace(0, 1, len(unique_labels)))\n",
    "for k, col in zip(unique_labels, colors):\n",
    "    if k == -1:\n",
    "        # Black used for noise.\n",
    "        col = 'k'\n",
    "\n",
    "    class_member_mask = (labels == k)\n",
    "\n",
    "    xy = X[class_member_mask & core_samples_mask]\n",
    "    plt.plot(xy[:, 0], xy[:, 1], 'o', markerfacecolor=col,\n",
    "             markeredgecolor='k', markersize=14)\n",
    "\n",
    "    xy = X[class_member_mask & ~core_samples_mask]\n",
    "    plt.plot(xy[:, 0], xy[:, 1], 'o', markerfacecolor=col,\n",
    "             markeredgecolor='k', markersize=6)\n",
    "\n",
    "plt.title('Estimated number of clusters: %d' % n_clusters_)\n",
    "plt.show()"
   ]
  },
  {
   "cell_type": "markdown",
   "metadata": {},
   "source": [
    "TOO MUCH NOISE, NOT ENOUGH SIGNAL, TO USE THIS AS A CLUSTERING METHOD\n",
    "AS THE ABOVE GRAPH SHOWS, THESE ARE VERY CRAPPY CLUSTERS.\n",
    "HOWEVER, LET US TRY 3 AS THE NUMBER OF CLUSTERS ANYWAY AND SEE WHAT HAPPENS"
   ]
  },
  {
   "cell_type": "code",
   "execution_count": 9,
   "metadata": {
    "collapsed": false
   },
   "outputs": [
    {
     "data": {
      "text/plain": [
       "[(0,\n",
       "  u'0.026*collegial + 0.022*culture + 0.018*conservative + 0.017*management + 0.017*fun + 0.015*performance + 0.015*engaged + 0.014*top + 0.013*change + 0.013*growth'),\n",
       " (1,\n",
       "  u'0.026*integrity + 0.023*service + 0.019*respect + 0.014*accountability + 0.014*teamwork + 0.014*focus + 0.013*supportive + 0.012*right + 0.012*trust + 0.011*communication'),\n",
       " (2,\n",
       "  u'0.051*collaborative + 0.043*family + 0.027*entrepreneurial + 0.020*value + 0.019*oriented + 0.019*open + 0.019*professional + 0.019*focused + 0.017*friendly + 0.016*driven')]"
      ]
     },
     "execution_count": 9,
     "metadata": {},
     "output_type": "execute_result"
    }
   ],
   "source": [
    "num_topics=3\n",
    "\n",
    "ldamodel = models.ldamodel.LdaModel(corpus=corpus_tfidf, id2word=dictionary, num_topics=num_topics, passes=20, iterations=100000)\n",
    "ldamodel.print_topics()"
   ]
  },
  {
   "cell_type": "code",
   "execution_count": 15,
   "metadata": {
    "collapsed": false
   },
   "outputs": [
    {
     "data": {
      "text/plain": [
       "[(0,\n",
       "  u'0.039*management + 0.032*transparent + 0.029*culture + 0.022*changing + 0.021*engaged + 0.021*lack + 0.019*energetic + 0.018*top + 0.018*fast + 0.018*open'),\n",
       " (1,\n",
       "  u'0.099*family + 0.060*collegial + 0.032*team + 0.027*first + 0.026*transition + 0.024*casual + 0.021*business + 0.019*toxic + 0.018*competitive + 0.018*accountable'),\n",
       " (2,\n",
       "  u'0.093*collaborative + 0.056*entrepreneurial + 0.030*fun + 0.030*friendly + 0.028*ethical + 0.028*respectful + 0.026*family + 0.024*supportive + 0.018*open + 0.018*committed'),\n",
       " (3,\n",
       "  u'0.044*professional + 0.035*driven + 0.033*relaxed + 0.025*honest + 0.022*mission + 0.022*creative + 0.020*flexible + 0.020*cooperative + 0.017*highly + 0.016*siloed'),\n",
       " (4,\n",
       "  u'0.053*oriented + 0.052*innovative + 0.040*focused + 0.036*customer + 0.028*collaborative + 0.028*conservative + 0.026*open + 0.023*performance + 0.022*traditional + 0.021*high'),\n",
       " (5,\n",
       "  u'0.035*employee + 0.034*client + 0.028*work + 0.027*company + 0.026*value + 0.022*caring + 0.021*people + 0.021*culture + 0.019*focus + 0.019*owned'),\n",
       " (6,\n",
       "  u'0.040*integrity + 0.031*respect + 0.030*teamwork + 0.023*excellence + 0.022*good + 0.020*honesty + 0.017*right + 0.016*positive + 0.014*innovation + 0.014*service')]"
      ]
     },
     "execution_count": 15,
     "metadata": {},
     "output_type": "execute_result"
    }
   ],
   "source": [
    "num_topics=7\n",
    "\n",
    "ldamodel = models.ldamodel.LdaModel(corpus=corpus_tfidf, id2word=dictionary, num_topics=num_topics, passes=20, iterations=100000)\n",
    "ldamodel.print_topics()\n"
   ]
  },
  {
   "cell_type": "markdown",
   "metadata": {},
   "source": [
    "DOES IT REALLY MAKE SENSE TO USE LDA IN THIS MODEL?\n",
    "DO WE WANT TO GIVE COMPANY CULTURE ONE LABEL, OR ALLOW THEM TO HAVE MULTIPLE LABELS? (THE DSBSCAN SEEMED TO INDICATE THAT THERE WERE OVERLAPPING CLUSTERS, WHICH INDICATES MEMBERSHIP IN MORE THAN ONE, BUT STILL.)"
   ]
  },
  {
   "cell_type": "code",
   "execution_count": 16,
   "metadata": {
    "collapsed": false
   },
   "outputs": [
    {
     "data": {
      "text/plain": [
       "[(0,\n",
       "  u'0.862*\"collaborative\" + 0.256*\"family\" + 0.196*\"oriented\" + 0.129*\"open\" + 0.106*\"driven\" + 0.106*\"customer\" + 0.101*\"team\" + 0.091*\"focused\" + 0.089*\"innovative\" + 0.084*\"culture\"'),\n",
       " (1,\n",
       "  u'-0.806*\"family\" + 0.417*\"collaborative\" + -0.239*\"oriented\" + -0.115*\"culture\" + -0.108*\"customer\" + -0.096*\"focused\" + -0.079*\"business\" + -0.079*\"friendly\" + -0.077*\"service\" + -0.073*\"team\"'),\n",
       " (2,\n",
       "  u'0.471*\"family\" + -0.321*\"customer\" + -0.264*\"entrepreneurial\" + -0.250*\"focused\" + 0.234*\"collaborative\" + -0.228*\"culture\" + -0.188*\"oriented\" + -0.170*\"driven\" + -0.161*\"open\" + -0.157*\"service\"'),\n",
       " (3,\n",
       "  u'-0.915*\"entrepreneurial\" + -0.223*\"innovative\" + 0.143*\"customer\" + 0.119*\"oriented\" + -0.112*\"family\" + 0.104*\"focused\" + 0.082*\"culture\" + 0.068*\"service\" + 0.061*\"employee\" + 0.048*\"value\"'),\n",
       " (4,\n",
       "  u'-0.823*\"open\" + 0.229*\"oriented\" + -0.229*\"friendly\" + 0.220*\"customer\" + -0.202*\"transparent\" + -0.128*\"collegial\" + 0.126*\"service\" + 0.105*\"focused\" + -0.093*\"communication\" + -0.073*\"supportive\"'),\n",
       " (5,\n",
       "  u'-0.546*\"culture\" + 0.465*\"oriented\" + 0.231*\"open\" + 0.208*\"customer\" + -0.193*\"corporate\" + -0.172*\"integrity\" + 0.167*\"focused\" + -0.152*\"company\" + -0.147*\"management\" + 0.145*\"team\"'),\n",
       " (6,\n",
       "  u'-0.762*\"collegial\" + -0.479*\"professional\" + 0.197*\"open\" + 0.159*\"oriented\" + -0.114*\"caring\" + 0.109*\"culture\" + -0.103*\"innovative\" + 0.093*\"team\" + -0.088*\"supportive\" + -0.086*\"integrity\"')]"
      ]
     },
     "execution_count": 16,
     "metadata": {},
     "output_type": "execute_result"
    }
   ],
   "source": [
    "lsimodel = models.lsimodel.LsiModel(corpus=corpus_tfidf, id2word=dictionary, num_topics=num_topics)\n",
    "corpus_lsi = lsimodel[corpus_tfidf]\n",
    "lsimodel.print_topics(num_topics)\n",
    "\n",
    "##THESE TOPICS DON'T MAKE SENSE, SINCE THERE ARE NEGATIVES IN THEM. ALTERNATE WAY TO GROUP:\n",
    "##FIND DOCUMENTS THAT SHARE THE SAME TOPIC, TAKE THOSE TOP KEYWORDS"
   ]
  },
  {
   "cell_type": "code",
   "execution_count": 18,
   "metadata": {
    "collapsed": false
   },
   "outputs": [
    {
     "data": {
      "text/plain": [
       "[(0,\n",
       "  u'0.862*\"collaborative\" + 0.256*\"family\" + 0.196*\"oriented\" + 0.130*\"open\" + 0.107*\"driven\" + 0.107*\"customer\" + 0.101*\"team\" + 0.091*\"focused\" + 0.090*\"innovative\" + 0.084*\"culture\"'),\n",
       " (1,\n",
       "  u'0.806*\"family\" + -0.417*\"collaborative\" + 0.238*\"oriented\" + 0.115*\"culture\" + 0.108*\"customer\" + 0.096*\"focused\" + 0.079*\"friendly\" + 0.078*\"business\" + 0.077*\"service\" + 0.073*\"professional\"'),\n",
       " (2,\n",
       "  u'-0.471*\"family\" + 0.321*\"customer\" + 0.264*\"entrepreneurial\" + 0.252*\"focused\" + -0.234*\"collaborative\" + 0.227*\"culture\" + 0.188*\"oriented\" + 0.169*\"driven\" + 0.161*\"open\" + 0.157*\"service\"')]"
      ]
     },
     "execution_count": 18,
     "metadata": {},
     "output_type": "execute_result"
    }
   ],
   "source": [
    "num_topics=3\n",
    "\n",
    "lsimodel = models.lsimodel.LsiModel(corpus=corpus_tfidf, id2word=dictionary, num_topics=num_topics)\n",
    "corpus_lsi = lsimodel[corpus_tfidf]\n",
    "lsimodel.print_topics(num_topics)\n",
    "\n",
    "##THESE TOPICS DON'T MAKE SENSE, SINCE THERE ARE NEGATIVES IN THEM. ALTERNATE WAY TO GROUP:\n",
    "##FIND DOCUMENTS THAT SHARE THE SAME TOPIC, TAKE THOSE TOP KEYWORDS"
   ]
  },
  {
   "cell_type": "code",
   "execution_count": 20,
   "metadata": {
    "collapsed": false
   },
   "outputs": [
    {
     "data": {
      "text/plain": [
       "[u'topic 0: 0.017*everything + 0.015*collaborative + 0.012*intense + 0.011*execution + 0.011*strive + 0.010*environment + 0.010*conservative + 0.010*customer + 0.010*shared + 0.009*beginning + 0.009*great + 0.009*engaged + 0.008*trust + 0.008*caring + 0.008*innovative + 0.008*responsible + 0.008*know + 0.008*energy + 0.007*smart + 0.007*last',\n",
       " u'topic 1: 0.022*mgmt + 0.019*conservative + 0.012*solid + 0.012*growth + 0.011*united + 0.011*customer-centric + 0.010*encouraged + 0.010*principle + 0.010*style + 0.009*one + 0.009*balance + 0.009*transparency + 0.009*engaged + 0.008*direction + 0.008*efficiency + 0.008*forward + 0.008*individual + 0.008*autocratic + 0.008*sense + 0.008*benefit',\n",
       " u'topic 2: 0.011*knowledge + 0.011*person + 0.010*competitive + 0.010*focused + 0.010*specific + 0.010*great + 0.010*limited + 0.010*provide + 0.010*stakeholder + 0.010*set + 0.010*trying + 0.009*system + 0.009*believe + 0.009*empowerment + 0.009*siloed + 0.009*looking + 0.009*efficient + 0.009*environment + 0.009*averse + 0.008*highest',\n",
       " u'topic 3: 0.022*improvement + 0.015*serve + 0.013*efficient + 0.012*get + 0.012*controlled + 0.011*encouraged + 0.011*people + 0.010*goal + 0.010*customer-centric + 0.009*principle + 0.009*dysfunctional + 0.009*provide + 0.009*defined + 0.009*high + 0.008*old + 0.008*system + 0.008*innovation + 0.008*collaboration + 0.008*averse + 0.008*style',\n",
       " u'topic 4: 0.015*command + 0.015*bureaucratic + 0.015*around + 0.013*hard + 0.013*new + 0.013*integrity + 0.012*emphasis + 0.012*growth + 0.011*family + 0.010*talent + 0.010*structured + 0.009*group + 0.009*defined + 0.008*solid + 0.008*collegial + 0.008*specific + 0.008*sale + 0.008*mission-driven + 0.008*line + 0.008*better',\n",
       " u'topic 5: 0.019*willing + 0.014*command + 0.014*efficiency + 0.013*smart + 0.012*often + 0.011*best + 0.010*entrepreneurial + 0.010*engagement + 0.009*goal + 0.009*servant + 0.009*defined + 0.009*technical + 0.009*paced + 0.008*investment + 0.008*business + 0.008*ownership + 0.008*clear + 0.008*creativity + 0.008*individual + 0.008*profit',\n",
       " u'topic 6: 0.012*company + 0.011*dynamic + 0.011*meeting + 0.011*important + 0.010*better + 0.010*towards + 0.010*collaborative + 0.009*excellence + 0.009*intense + 0.009*dont + 0.008*mgmt + 0.008*well + 0.008*behavior + 0.008*know + 0.008*think + 0.008*value + 0.007*member + 0.007*often + 0.007*department + 0.007*part',\n",
       " u'topic 7: 0.023*paternalistic + 0.020*benefit + 0.015*small + 0.013*senior + 0.013*one + 0.013*another + 0.012*bad + 0.012*ethical + 0.011*committed + 0.010*social + 0.009*specific + 0.009*safety + 0.009*mgmt + 0.009*lack + 0.008*together + 0.008*going + 0.008*line + 0.008*culture + 0.008*year + 0.008*can-do',\n",
       " u'topic 8: 0.017*strong + 0.015*benefit + 0.014*growth + 0.011*build + 0.011*ethic + 0.011*forward + 0.010*centered + 0.010*deliver + 0.010*expectation + 0.009*always + 0.009*get + 0.009*partnership + 0.009*job + 0.009*area + 0.008*mutual + 0.008*key + 0.008*day + 0.008*client + 0.008*innovation + 0.007*valued',\n",
       " u'topic 9: 0.014*executive + 0.014*small + 0.012*embrace + 0.011*fast + 0.011*become + 0.011*willing + 0.010*outcome + 0.010*integrity + 0.009*empowerment + 0.009*line + 0.009*often + 0.009*honest + 0.009*diversity + 0.008*care + 0.008*relationship + 0.008*build + 0.008*creative + 0.008*organization + 0.008*opportunity + 0.008*area',\n",
       " u'topic 10: 0.017*profit + 0.013*part + 0.012*making + 0.011*improve + 0.011*support + 0.011*person + 0.010*uncertainty + 0.010*word + 0.010*conservative + 0.009*creative + 0.009*limited + 0.009*challenge + 0.009*responsive + 0.009*efficient + 0.009*familial + 0.008*reward + 0.008*evolving + 0.007*manner + 0.007*problem + 0.007*high',\n",
       " u'topic 11: 0.025*management + 0.011*diversity + 0.011*caring + 0.010*ethic + 0.010*improving + 0.010*many + 0.010*respect + 0.010*traditional + 0.010*hard-working + 0.010*sense + 0.009*solving + 0.009*respectful + 0.009*culture + 0.009*transparency + 0.009*company + 0.009*personal + 0.009*everyone + 0.008*innovative + 0.008*highly + 0.008*every',\n",
       " u'topic 12: 0.018*stakeholder + 0.015*efficient + 0.013*empowered + 0.012*term + 0.011*group + 0.010*evolving + 0.010*satisfaction + 0.010*engaged + 0.010*currently + 0.009*new + 0.008*transitioning + 0.008*risk + 0.008*financial + 0.008*forward + 0.008*change + 0.008*clear + 0.008*trust + 0.008*formal + 0.007*beginning + 0.007*flexibility',\n",
       " u'topic 13: 0.013*empowering + 0.013*operation + 0.012*partnership + 0.011*level + 0.011*senior + 0.011*want + 0.010*dynamic + 0.010*diversity + 0.009*line + 0.008*success + 0.008*support + 0.008*always + 0.008*improving + 0.007*governance + 0.007*siloed + 0.007*caring + 0.007*product + 0.007*treat + 0.007*lack + 0.007*strategy',\n",
       " u'topic 14: 0.017*everyone + 0.016*come + 0.011*autocratic + 0.011*young + 0.011*deliver + 0.010*survey + 0.010*relaxed + 0.010*demanding + 0.010*satisfaction + 0.010*laid + 0.009*new + 0.009*accountability + 0.009*creative + 0.009*compliance + 0.008*firm + 0.008*core + 0.008*innovation + 0.008*management + 0.008*group + 0.007*paternalistic',\n",
       " u'topic 15: 0.012*describe + 0.012*key + 0.011*talent + 0.011*word + 0.010*engagement + 0.010*mgmt + 0.010*encouraged + 0.010*would + 0.010*approach + 0.010*loyal + 0.009*dysfunctional + 0.009*person + 0.009*working + 0.008*mindset + 0.008*solving + 0.008*client + 0.008*practice + 0.008*startup + 0.008*life + 0.007*therefore',\n",
       " u'topic 16: 0.021*demanding + 0.015*ethic + 0.014*casual + 0.011*member + 0.011*bad + 0.011*highest + 0.010*building + 0.010*currently + 0.009*around + 0.009*dedicated + 0.009*year + 0.009*small + 0.009*collegial + 0.009*doe + 0.008*competitive + 0.008*flexible + 0.008*must + 0.007*due + 0.007*reward + 0.007*innovative',\n",
       " u'topic 17: 0.020*global + 0.017*first + 0.016*satisfaction + 0.016*transparent + 0.011*competitive + 0.010*aligned + 0.010*product + 0.010*specific + 0.010*little + 0.009*however + 0.009*system + 0.009*outcome + 0.009*structured + 0.008*lack + 0.008*demanding + 0.008*office + 0.008*way + 0.008*highest + 0.008*efficiency + 0.008*would',\n",
       " u'topic 18: 0.014*current + 0.012*together + 0.012*say + 0.011*think + 0.011*agile + 0.010*grow + 0.009*competitive + 0.009*low + 0.009*caring + 0.009*safety + 0.009*intense + 0.009*valued + 0.008*mutual + 0.008*can-do + 0.008*passionate + 0.008*vision + 0.008*practice + 0.008*limited + 0.008*honesty + 0.007*product',\n",
       " u'topic 19: 0.015*future + 0.015*friendly + 0.015*growth + 0.010*transition + 0.010*first + 0.010*silo + 0.009*paced + 0.009*intense + 0.009*smart + 0.009*open + 0.009*moving + 0.009*investment + 0.008*profit + 0.008*independent + 0.008*willing + 0.008*disfunctional + 0.008*relaxed + 0.008*due + 0.008*give + 0.007*cost']"
      ]
     },
     "execution_count": 20,
     "metadata": {},
     "output_type": "execute_result"
    }
   ],
   "source": [
    "#HDP model\n",
    "hdpmodel = models.hdpmodel.HdpModel(corpus=corpus_tfidf, id2word=dictionary)\n",
    "corpus_hp = hdpmodel[corpus_tfidf]\n",
    "hdpmodel.print_topics()"
   ]
  },
  {
   "cell_type": "code",
   "execution_count": 10,
   "metadata": {
    "collapsed": false
   },
   "outputs": [
    {
     "name": "stdout",
     "output_type": "stream",
     "text": [
      "CPU times: user 742 ms, sys: 18.2 ms, total: 760 ms\n",
      "Wall time: 199 ms\n",
      "84\n",
      "Top 10 words:\n",
      "('family', 84)\n",
      "('oriented', 18)\n",
      "('business', 8)\n",
      "('atmosphere', 6)\n",
      "('friendly', 6)\n",
      "('owned', 6)\n",
      "('community', 5)\n",
      "('focused', 5)\n",
      "('professional', 5)\n",
      "('like', 4)\n",
      "1386\n",
      "Top 10 words:\n",
      "('culture', 145)\n",
      "(u'customer', 111)\n",
      "('open', 84)\n",
      "('work', 78)\n",
      "(u'employee', 76)\n",
      "('focused', 74)\n",
      "('integrity', 72)\n",
      "('team', 69)\n",
      "('value', 69)\n",
      "('oriented', 67)\n",
      "97\n",
      "Top 10 words:\n",
      "('collaborative', 97)\n",
      "('oriented', 8)\n",
      "('respectful', 8)\n",
      "('open', 7)\n",
      "('conservative', 7)\n",
      "('innovative', 6)\n",
      "('team', 6)\n",
      "('driven', 6)\n",
      "('inclusive', 4)\n",
      "('supportive', 4)\n"
     ]
    }
   ],
   "source": [
    "num_clusters = 3\n",
    "\n",
    "numpy_matrix = gensim.matutils.corpus2dense(corpus_tfidf, num_terms=len(dictionary))\n",
    "X = numpy_matrix.transpose() #each observation a row, each feature a column\n",
    "\n",
    "km = KMeans(n_clusters=num_clusters)\n",
    "\n",
    "%time km.fit(X)\n",
    "\n",
    "clusters = km.labels_.tolist()\n",
    "dfc = { 'cluster_no' : pd.Series(clusters),\n",
    "        'culture_text': pd.Series(tcorpus)}\n",
    "dfc = pd.DataFrame(dfc)\n",
    "cluster_one = dfc.loc[dfc['cluster_no'] == 0]['culture_text']\n",
    "print(len(cluster_one))\n",
    "tot_allwords=joinlists(cluster_one)\n",
    "print(\"Top 10 words:\")\n",
    "for ind_word in top_words(tot_allwords,10):\n",
    "    print ind_word\n",
    "\n",
    "cluster_two = dfc.loc[dfc['cluster_no'] == 1]['culture_text']\n",
    "print(len(cluster_two))\n",
    "tot_allwords=joinlists(cluster_two)\n",
    "print(\"Top 10 words:\")\n",
    "for ind_word in top_words(tot_allwords,10):\n",
    "    print ind_word\n",
    "\n",
    "cluster_three = dfc.loc[dfc['cluster_no'] == 2]['culture_text']\n",
    "print(len(cluster_three))\n",
    "tot_allwords=joinlists(cluster_three)\n",
    "print(\"Top 10 words:\")\n",
    "for ind_word in top_words(tot_allwords,10):\n",
    "    print ind_word\n"
   ]
  },
  {
   "cell_type": "markdown",
   "metadata": {},
   "source": [
    "This gives an indication of why the clusters are so crappy. Essentially, everyone who used the word collaborative was put in their own cluster; another for family/entrepreneurial; and the last, everyone left over formed the biggest cluster of all, containing 1425 people.\n",
    "\n",
    "Obviously this is not an ideal clustering method."
   ]
  },
  {
   "cell_type": "code",
   "execution_count": 216,
   "metadata": {
    "collapsed": false
   },
   "outputs": [
    {
     "name": "stdout",
     "output_type": "stream",
     "text": [
      "CPU times: user 1.14 s, sys: 10.2 ms, total: 1.15 s\n",
      "Wall time: 294 ms\n",
      "954\n",
      "Top 10 words:\n",
      "('culture', 115)\n",
      "('open', 69)\n",
      "('company', 47)\n",
      "('corporate', 47)\n",
      "(u'employee', 46)\n",
      "('entrepreneurial', 46)\n",
      "(u'value', 39)\n",
      "('business', 38)\n",
      "('innovative', 37)\n",
      "('management', 34)\n",
      "107\n",
      "Top 10 words:\n",
      "(u'customer', 103)\n",
      "('focused', 29)\n",
      "(u'service', 27)\n",
      "(u'employee', 15)\n",
      "('oriented', 14)\n",
      "(u'product', 11)\n",
      "('driven', 11)\n",
      "('culture', 10)\n",
      "('value', 9)\n",
      "('focus', 7)\n",
      "67\n",
      "Top 10 words:\n",
      "('family', 67)\n",
      "('oriented', 12)\n",
      "('business', 7)\n",
      "('community', 5)\n",
      "('owned', 5)\n",
      "('culture', 4)\n",
      "('like', 4)\n",
      "('friendly', 4)\n",
      "('fun', 4)\n",
      "('atmosphere', 3)\n",
      "201\n",
      "Top 10 words:\n",
      "('work', 63)\n",
      "('integrity', 61)\n",
      "('respect', 48)\n",
      "(u'good', 25)\n",
      "('excellence', 24)\n",
      "('trust', 21)\n",
      "('honesty', 20)\n",
      "('people', 20)\n",
      "(u'service', 19)\n",
      "('team', 17)\n",
      "97\n",
      "Top 10 words:\n",
      "('oriented', 56)\n",
      "('driven', 47)\n",
      "('team', 19)\n",
      "(u'result', 19)\n",
      "('value', 12)\n",
      "('mission', 8)\n",
      "('collaborative', 8)\n",
      "('employee', 7)\n",
      "('focused', 7)\n",
      "('family', 7)\n",
      "49\n",
      "Top 10 words:\n",
      "('professional', 49)\n",
      "('family', 6)\n",
      "('focused', 5)\n",
      "('oriented', 4)\n",
      "('team', 3)\n",
      "('ethical', 3)\n",
      "('collegial', 3)\n",
      "('honest', 3)\n",
      "('open', 3)\n",
      "('caring', 3)\n",
      "92\n",
      "Top 10 words:\n",
      "('collaborative', 92)\n",
      "('respectful', 8)\n",
      "('open', 7)\n",
      "('innovative', 6)\n",
      "('conservative', 6)\n",
      "('oriented', 5)\n",
      "('team', 5)\n",
      "('driven', 5)\n",
      "('inclusive', 4)\n",
      "('supportive', 4)\n"
     ]
    }
   ],
   "source": [
    "num_clusters = 7\n",
    "numpy_matrix = gensim.matutils.corpus2dense(corpus_tfidf, num_terms=len(dictionary))\n",
    "X = numpy_matrix.transpose() #each observation a row, each feature a column\n",
    "\n",
    "km = KMeans(n_clusters=num_clusters)\n",
    "\n",
    "%time km.fit(X)\n",
    "\n",
    "clusters = km.labels_.tolist()\n",
    "dfc = { 'cluster_no' : pd.Series(clusters),\n",
    "        'culture_text': pd.Series(tcorpus)}\n",
    "dfc = pd.DataFrame(dfc)\n",
    "cluster_one = dfc.loc[dfc['cluster_no'] == 0]['culture_text']\n",
    "print(len(cluster_one))\n",
    "tot_allwords=joinlists(cluster_one)\n",
    "print(\"Top 10 words:\")\n",
    "for ind_word in top_words(tot_allwords,10):\n",
    "    print ind_word\n",
    "\n",
    "cluster_two = dfc.loc[dfc['cluster_no'] == 1]['culture_text']\n",
    "print(len(cluster_two))\n",
    "tot_allwords=joinlists(cluster_two)\n",
    "print(\"Top 10 words:\")\n",
    "for ind_word in top_words(tot_allwords,10):\n",
    "    print ind_word\n",
    "\n",
    "cluster_three = dfc.loc[dfc['cluster_no'] == 2]['culture_text']\n",
    "print(len(cluster_three))\n",
    "tot_allwords=joinlists(cluster_three)\n",
    "print(\"Top 10 words:\")\n",
    "for ind_word in top_words(tot_allwords,10):\n",
    "    print ind_word\n",
    "\n",
    "cluster_four = dfc.loc[dfc['cluster_no'] == 3]['culture_text']\n",
    "print(len(cluster_four))\n",
    "tot_allwords=joinlists(cluster_four)\n",
    "print(\"Top 10 words:\")\n",
    "for ind_word in top_words(tot_allwords,10):\n",
    "    print ind_word\n",
    "\n",
    "cluster_five = dfc.loc[dfc['cluster_no'] == 4]['culture_text']\n",
    "print(len(cluster_five))\n",
    "tot_allwords=joinlists(cluster_five)\n",
    "print(\"Top 10 words:\")\n",
    "for ind_word in top_words(tot_allwords,10):\n",
    "    print ind_word\n",
    "\n",
    "cluster_six = dfc.loc[dfc['cluster_no'] == 5]['culture_text']\n",
    "print(len(cluster_six))\n",
    "tot_allwords=joinlists(cluster_six)\n",
    "print(\"Top 10 words:\")\n",
    "for ind_word in top_words(tot_allwords,10):\n",
    "    print ind_word\n",
    "\n",
    "cluster_seven = dfc.loc[dfc['cluster_no'] == 6]['culture_text']\n",
    "print(len(cluster_seven))\n",
    "tot_allwords=joinlists(cluster_seven)\n",
    "print(\"Top 10 words:\")\n",
    "for ind_word in top_words(tot_allwords,10):\n",
    "    print ind_word"
   ]
  },
  {
   "cell_type": "code",
   "execution_count": 217,
   "metadata": {
    "collapsed": false
   },
   "outputs": [],
   "source": [
    "## As above shows, we're running into the problem of synonyms\n",
    "## collaborative & supportive & team are essentially the same\n",
    "## yet there isn't enough data for the model to pick up on that\n",
    "\n",
    "## Perhaps hierarchical clustering algorithms would work better?"
   ]
  },
  {
   "cell_type": "code",
   "execution_count": 14,
   "metadata": {
    "collapsed": false
   },
   "outputs": [
    {
     "name": "stdout",
     "output_type": "stream",
     "text": [
      "(1567, 401)\n"
     ]
    },
    {
     "data": {
      "image/png": "[encoded data removed]",
      "text/plain": [
       "<matplotlib.figure.Figure at 0x126b50390>"
      ]
     },
     "metadata": {},
     "output_type": "display_data"
    },
    {
     "name": "stdout",
     "output_type": "stream",
     "text": [
      "0.0897995116494\n",
      "0.694221694603\n"
     ]
    }
   ],
   "source": [
    "from scipy.spatial.distance import pdist, squareform\n",
    "from scipy.cluster.hierarchy import linkage, dendrogram, fcluster, cophenet\n",
    "\n",
    "print(X.shape)\n",
    "Z = linkage(X,'ward')\n",
    "Zcos = linkage(X,metric='cosine',method='complete')\n",
    "labels = fcluster(Zcos, .1, criterion=\"distance\")\n",
    "plt.scatter(X[:, 0], X[:, 1], c=labels.astype(np.float)) \n",
    "plt.show()\n",
    "\n",
    "c, coph_dists = cophenet(Z,pdist(X))\n",
    "print(c)\n",
    "c, coph_dists = cophenet(Zcos,pdist(X))\n",
    "print(c) "
   ]
  },
  {
   "cell_type": "markdown",
   "metadata": {},
   "source": [
    "The Cophenetic Correlation Coefficient compares (correlates) the actual pairwise distances of all our samples to those implied by the hierarchical clustering. The closer the value is to 1, the better the clustering preserves the original distances. We will go with the cos distance, since that is more standard for text, and also closer to one. However, as this number shows, there's a significant account of variation left unaccounted for."
   ]
  },
  {
   "cell_type": "code",
   "execution_count": 28,
   "metadata": {
    "collapsed": false
   },
   "outputs": [
    {
     "data": {
      "image/png": "[encoded data removed]",
      "text/plain": [
       "<matplotlib.figure.Figure at 0x128c027d0>"
      ]
     },
     "metadata": {},
     "output_type": "display_data"
    }
   ],
   "source": [
    "plt.figure(figsize=(25, 10))\n",
    "plt.title('Hierarchical Clustering Dendrogram')\n",
    "plt.xlabel('sample index')\n",
    "plt.ylabel('distance')\n",
    "dendrogram(\n",
    "    Zcos,\n",
    "    truncate_mode = 'lastp',\n",
    "    p=400,\n",
    "    leaf_rotation=90.,  # rotates the x axis labels\n",
    "    leaf_font_size=8.,  # font size for the x axis labels\n",
    ")\n",
    "plt.show()"
   ]
  },
  {
   "cell_type": "markdown",
   "metadata": {
    "collapsed": true
   },
   "source": [
    "Takeaway: There are too many clusters, and no principled way to decrease that number. Perhaps if we include other data?"
   ]
  }
 ],
 "metadata": {
  "kernelspec": {
   "display_name": "Python 2",
   "language": "python",
   "name": "python2"
  },
  "language_info": {
   "codemirror_mode": {
    "name": "ipython",
    "version": 2
   },
   "file_extension": ".py",
   "mimetype": "text/x-python",
   "name": "python",
   "nbconvert_exporter": "python",
   "pygments_lexer": "ipython2",
   "version": "2.7.11"
  }
 },
 "nbformat": 4,
 "nbformat_minor": 0
}
